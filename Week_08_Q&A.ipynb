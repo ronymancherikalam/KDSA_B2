{
 "cells": [
  {
   "cell_type": "code",
   "execution_count": 1,
   "id": "1a97f639-bfa6-49fa-85e2-6c8db17de4ec",
   "metadata": {},
   "outputs": [],
   "source": [
    "import pandas as pd\n",
    "import numpy as np\n",
    "#import seaborn as sns\n",
    "#import matplotlib.pyplot as plt\n",
    "import scipy.stats as scp\n",
    "#import statsmodels.formula.api as smf\n",
    "#import statsmodels.api as sm"
   ]
  },
  {
   "cell_type": "code",
   "execution_count": 2,
   "id": "18a7b7f2-c641-4381-9f6b-73d7bd3f4d21",
   "metadata": {},
   "outputs": [],
   "source": [
    "data=pd.read_csv('Advertising.csv')"
   ]
  },
  {
   "cell_type": "markdown",
   "id": "b0ce1c14-120d-4dbf-9991-d05b6a980ffa",
   "metadata": {},
   "source": [
    "# 1. Explain the dataset"
   ]
  },
  {
   "cell_type": "code",
   "execution_count": 3,
   "id": "78f7a31b-67c6-4b87-87d1-40f23d9437da",
   "metadata": {},
   "outputs": [
    {
     "data": {
      "text/html": [
       "<div>\n",
       "<style scoped>\n",
       "    .dataframe tbody tr th:only-of-type {\n",
       "        vertical-align: middle;\n",
       "    }\n",
       "\n",
       "    .dataframe tbody tr th {\n",
       "        vertical-align: top;\n",
       "    }\n",
       "\n",
       "    .dataframe thead th {\n",
       "        text-align: right;\n",
       "    }\n",
       "</style>\n",
       "<table border=\"1\" class=\"dataframe\">\n",
       "  <thead>\n",
       "    <tr style=\"text-align: right;\">\n",
       "      <th></th>\n",
       "      <th>Unnamed: 0</th>\n",
       "      <th>TV</th>\n",
       "      <th>Radio</th>\n",
       "      <th>Newspaper</th>\n",
       "      <th>Sales</th>\n",
       "    </tr>\n",
       "  </thead>\n",
       "  <tbody>\n",
       "    <tr>\n",
       "      <th>0</th>\n",
       "      <td>1</td>\n",
       "      <td>230.1</td>\n",
       "      <td>37.8</td>\n",
       "      <td>69.2</td>\n",
       "      <td>22.1</td>\n",
       "    </tr>\n",
       "    <tr>\n",
       "      <th>1</th>\n",
       "      <td>2</td>\n",
       "      <td>44.5</td>\n",
       "      <td>39.3</td>\n",
       "      <td>45.1</td>\n",
       "      <td>10.4</td>\n",
       "    </tr>\n",
       "    <tr>\n",
       "      <th>2</th>\n",
       "      <td>3</td>\n",
       "      <td>17.2</td>\n",
       "      <td>45.9</td>\n",
       "      <td>69.3</td>\n",
       "      <td>9.3</td>\n",
       "    </tr>\n",
       "    <tr>\n",
       "      <th>3</th>\n",
       "      <td>4</td>\n",
       "      <td>151.5</td>\n",
       "      <td>41.3</td>\n",
       "      <td>58.5</td>\n",
       "      <td>18.5</td>\n",
       "    </tr>\n",
       "    <tr>\n",
       "      <th>4</th>\n",
       "      <td>5</td>\n",
       "      <td>180.8</td>\n",
       "      <td>10.8</td>\n",
       "      <td>58.4</td>\n",
       "      <td>12.9</td>\n",
       "    </tr>\n",
       "  </tbody>\n",
       "</table>\n",
       "</div>"
      ],
      "text/plain": [
       "   Unnamed: 0     TV  Radio  Newspaper  Sales\n",
       "0           1  230.1   37.8       69.2   22.1\n",
       "1           2   44.5   39.3       45.1   10.4\n",
       "2           3   17.2   45.9       69.3    9.3\n",
       "3           4  151.5   41.3       58.5   18.5\n",
       "4           5  180.8   10.8       58.4   12.9"
      ]
     },
     "execution_count": 3,
     "metadata": {},
     "output_type": "execute_result"
    }
   ],
   "source": [
    "data.head()"
   ]
  },
  {
   "cell_type": "code",
   "execution_count": 4,
   "id": "e0b3ddbb-172e-472d-85f4-27948877489b",
   "metadata": {},
   "outputs": [
    {
     "name": "stdout",
     "output_type": "stream",
     "text": [
      "<class 'pandas.core.frame.DataFrame'>\n",
      "RangeIndex: 200 entries, 0 to 199\n",
      "Data columns (total 5 columns):\n",
      " #   Column      Non-Null Count  Dtype  \n",
      "---  ------      --------------  -----  \n",
      " 0   Unnamed: 0  200 non-null    int64  \n",
      " 1   TV          200 non-null    float64\n",
      " 2   Radio       200 non-null    float64\n",
      " 3   Newspaper   200 non-null    float64\n",
      " 4   Sales       200 non-null    float64\n",
      "dtypes: float64(4), int64(1)\n",
      "memory usage: 7.9 KB\n"
     ]
    }
   ],
   "source": [
    "data.info()"
   ]
  },
  {
   "cell_type": "markdown",
   "id": "164858ce-aebb-474f-a962-78de40b77660",
   "metadata": {},
   "source": [
    "<font color='blue'><font size=3>As per above the data is having an unnamed column which is actually serial no of each row and need to be dropped.\n",
    "There are a total of 200 samples.\n",
    "The data is about advertising done through different media and the sales achieved.</font>"
   ]
  },
  {
   "cell_type": "code",
   "execution_count": 5,
   "id": "ef219d7f",
   "metadata": {},
   "outputs": [
    {
     "data": {
      "text/plain": [
       "Unnamed: 0    0\n",
       "TV            0\n",
       "Radio         0\n",
       "Newspaper     0\n",
       "Sales         0\n",
       "dtype: int64"
      ]
     },
     "execution_count": 5,
     "metadata": {},
     "output_type": "execute_result"
    }
   ],
   "source": [
    "data.isna().sum()"
   ]
  },
  {
   "cell_type": "markdown",
   "id": "3d487777",
   "metadata": {},
   "source": [
    "<font color='blue'><font size=3> There is no invalid data in the columns and no null values too"
   ]
  },
  {
   "cell_type": "markdown",
   "id": "2f4930d4-0581-4ae6-bca1-37bca01012de",
   "metadata": {},
   "source": [
    "# 2. Check the summary statistics and discuss the max, min, avg, median, and percentiles."
   ]
  },
  {
   "cell_type": "code",
   "execution_count": 6,
   "id": "45d8a4f3-70a5-4f1e-a46b-945eaf6a1230",
   "metadata": {},
   "outputs": [],
   "source": [
    "data1 = data.drop('Unnamed: 0',axis=1)"
   ]
  },
  {
   "cell_type": "markdown",
   "id": "3044ec6c",
   "metadata": {},
   "source": [
    "<font color='blue'><font size=3>Droped the serial number column as it is not required"
   ]
  },
  {
   "cell_type": "code",
   "execution_count": 7,
   "id": "2ca58f10-049b-4fab-8f10-44b9abf959e8",
   "metadata": {},
   "outputs": [
    {
     "data": {
      "text/html": [
       "<div>\n",
       "<style scoped>\n",
       "    .dataframe tbody tr th:only-of-type {\n",
       "        vertical-align: middle;\n",
       "    }\n",
       "\n",
       "    .dataframe tbody tr th {\n",
       "        vertical-align: top;\n",
       "    }\n",
       "\n",
       "    .dataframe thead th {\n",
       "        text-align: right;\n",
       "    }\n",
       "</style>\n",
       "<table border=\"1\" class=\"dataframe\">\n",
       "  <thead>\n",
       "    <tr style=\"text-align: right;\">\n",
       "      <th></th>\n",
       "      <th>TV</th>\n",
       "      <th>Radio</th>\n",
       "      <th>Newspaper</th>\n",
       "      <th>Sales</th>\n",
       "    </tr>\n",
       "  </thead>\n",
       "  <tbody>\n",
       "    <tr>\n",
       "      <th>count</th>\n",
       "      <td>200.000000</td>\n",
       "      <td>200.000000</td>\n",
       "      <td>200.000000</td>\n",
       "      <td>200.000000</td>\n",
       "    </tr>\n",
       "    <tr>\n",
       "      <th>mean</th>\n",
       "      <td>147.042500</td>\n",
       "      <td>23.264000</td>\n",
       "      <td>30.554000</td>\n",
       "      <td>14.022500</td>\n",
       "    </tr>\n",
       "    <tr>\n",
       "      <th>std</th>\n",
       "      <td>85.854236</td>\n",
       "      <td>14.846809</td>\n",
       "      <td>21.778621</td>\n",
       "      <td>5.217457</td>\n",
       "    </tr>\n",
       "    <tr>\n",
       "      <th>min</th>\n",
       "      <td>0.700000</td>\n",
       "      <td>0.000000</td>\n",
       "      <td>0.300000</td>\n",
       "      <td>1.600000</td>\n",
       "    </tr>\n",
       "    <tr>\n",
       "      <th>25%</th>\n",
       "      <td>74.375000</td>\n",
       "      <td>9.975000</td>\n",
       "      <td>12.750000</td>\n",
       "      <td>10.375000</td>\n",
       "    </tr>\n",
       "    <tr>\n",
       "      <th>50%</th>\n",
       "      <td>149.750000</td>\n",
       "      <td>22.900000</td>\n",
       "      <td>25.750000</td>\n",
       "      <td>12.900000</td>\n",
       "    </tr>\n",
       "    <tr>\n",
       "      <th>75%</th>\n",
       "      <td>218.825000</td>\n",
       "      <td>36.525000</td>\n",
       "      <td>45.100000</td>\n",
       "      <td>17.400000</td>\n",
       "    </tr>\n",
       "    <tr>\n",
       "      <th>max</th>\n",
       "      <td>296.400000</td>\n",
       "      <td>49.600000</td>\n",
       "      <td>114.000000</td>\n",
       "      <td>27.000000</td>\n",
       "    </tr>\n",
       "  </tbody>\n",
       "</table>\n",
       "</div>"
      ],
      "text/plain": [
       "               TV       Radio   Newspaper       Sales\n",
       "count  200.000000  200.000000  200.000000  200.000000\n",
       "mean   147.042500   23.264000   30.554000   14.022500\n",
       "std     85.854236   14.846809   21.778621    5.217457\n",
       "min      0.700000    0.000000    0.300000    1.600000\n",
       "25%     74.375000    9.975000   12.750000   10.375000\n",
       "50%    149.750000   22.900000   25.750000   12.900000\n",
       "75%    218.825000   36.525000   45.100000   17.400000\n",
       "max    296.400000   49.600000  114.000000   27.000000"
      ]
     },
     "execution_count": 7,
     "metadata": {},
     "output_type": "execute_result"
    }
   ],
   "source": [
    "data1.describe()"
   ]
  },
  {
   "cell_type": "markdown",
   "id": "44b188f2-3360-422e-8b3f-a9364dec44bf",
   "metadata": {},
   "source": [
    "# a)minimum values of data"
   ]
  },
  {
   "cell_type": "code",
   "execution_count": 8,
   "id": "9e6b5d56-022e-48b9-8ce5-aa0a32ac37d8",
   "metadata": {},
   "outputs": [
    {
     "name": "stdout",
     "output_type": "stream",
     "text": [
      "TV           0.7\n",
      "Radio        0.0\n",
      "Newspaper    0.3\n",
      "Sales        1.6\n",
      "dtype: float64\n"
     ]
    }
   ],
   "source": [
    "minimum = np.min(data1)\n",
    "print(minimum)"
   ]
  },
  {
   "cell_type": "markdown",
   "id": "80be3561-77a8-4390-8af8-1ae5b155aec9",
   "metadata": {},
   "source": [
    "<font color='blue'><font size=3>Advertisement in Radio was *nil* at some instances</font>"
   ]
  },
  {
   "cell_type": "markdown",
   "id": "a0280078-35fc-4ff6-b077-09ea2175dcc4",
   "metadata": {},
   "source": [
    "# b)maximum values of data"
   ]
  },
  {
   "cell_type": "code",
   "execution_count": 9,
   "id": "b615fa5f-7025-436a-b31b-0356d4dfb9b3",
   "metadata": {},
   "outputs": [
    {
     "name": "stdout",
     "output_type": "stream",
     "text": [
      "TV           296.4\n",
      "Radio         49.6\n",
      "Newspaper    114.0\n",
      "Sales         27.0\n",
      "dtype: float64\n"
     ]
    }
   ],
   "source": [
    "maximum = np.max(data1)\n",
    "print(maximum)"
   ]
  },
  {
   "cell_type": "markdown",
   "id": "1fb7366a",
   "metadata": {},
   "source": [
    "<font color='blue'><font size=3>Advertisement in TV has *maximum* spending in one instance</font>"
   ]
  },
  {
   "cell_type": "markdown",
   "id": "e279a743-6be4-4c37-b1a7-0c5af1b45aa0",
   "metadata": {},
   "source": [
    "# c)average values of data"
   ]
  },
  {
   "cell_type": "code",
   "execution_count": 10,
   "id": "b94eaaf4-a71d-49ce-a9a2-3c959fddf3b4",
   "metadata": {},
   "outputs": [
    {
     "data": {
      "text/plain": [
       "TV           147.0425\n",
       "Radio         23.2640\n",
       "Newspaper     30.5540\n",
       "Sales         14.0225\n",
       "dtype: float64"
      ]
     },
     "execution_count": 10,
     "metadata": {},
     "output_type": "execute_result"
    }
   ],
   "source": [
    "data1.mean()"
   ]
  },
  {
   "cell_type": "markdown",
   "id": "442c6755-963a-47c2-b5f8-a36da650a53d",
   "metadata": {},
   "source": [
    "<font color='blue'><font size=3>Comparitively more money is spent on advertisement through TV and less through Radio</font>"
   ]
  },
  {
   "cell_type": "markdown",
   "id": "75baff3a-96c4-4be1-a97e-224dba03eb64",
   "metadata": {},
   "source": [
    "# d)median values of data"
   ]
  },
  {
   "cell_type": "code",
   "execution_count": 11,
   "id": "00d5a73b-f0d0-4111-8540-da06edb9a4e9",
   "metadata": {},
   "outputs": [
    {
     "data": {
      "text/plain": [
       "TV           149.75\n",
       "Radio         22.90\n",
       "Newspaper     25.75\n",
       "Sales         12.90\n",
       "dtype: float64"
      ]
     },
     "execution_count": 11,
     "metadata": {},
     "output_type": "execute_result"
    }
   ],
   "source": [
    "data1.median()"
   ]
  },
  {
   "cell_type": "markdown",
   "id": "7a3055a1",
   "metadata": {},
   "source": [
    "<font color='blue'><font size=3>Advertisement in TV has larger spendings compared to other media</font>"
   ]
  },
  {
   "cell_type": "markdown",
   "id": "bfa5f809-5c56-4610-aa81-7f5c94c5fa28",
   "metadata": {},
   "source": [
    "# e)percentiles values of data"
   ]
  },
  {
   "cell_type": "code",
   "execution_count": 12,
   "id": "1b638944-9b1e-4b84-a98b-60ab41e5fdee",
   "metadata": {},
   "outputs": [
    {
     "data": {
      "text/html": [
       "<div>\n",
       "<style scoped>\n",
       "    .dataframe tbody tr th:only-of-type {\n",
       "        vertical-align: middle;\n",
       "    }\n",
       "\n",
       "    .dataframe tbody tr th {\n",
       "        vertical-align: top;\n",
       "    }\n",
       "\n",
       "    .dataframe thead th {\n",
       "        text-align: right;\n",
       "    }\n",
       "</style>\n",
       "<table border=\"1\" class=\"dataframe\">\n",
       "  <thead>\n",
       "    <tr style=\"text-align: right;\">\n",
       "      <th></th>\n",
       "      <th>TV</th>\n",
       "      <th>Radio</th>\n",
       "      <th>Newspaper</th>\n",
       "      <th>Sales</th>\n",
       "    </tr>\n",
       "  </thead>\n",
       "  <tbody>\n",
       "    <tr>\n",
       "      <th>0.25</th>\n",
       "      <td>74.375</td>\n",
       "      <td>9.975</td>\n",
       "      <td>12.75</td>\n",
       "      <td>10.375</td>\n",
       "    </tr>\n",
       "    <tr>\n",
       "      <th>0.50</th>\n",
       "      <td>149.750</td>\n",
       "      <td>22.900</td>\n",
       "      <td>25.75</td>\n",
       "      <td>12.900</td>\n",
       "    </tr>\n",
       "    <tr>\n",
       "      <th>0.75</th>\n",
       "      <td>218.825</td>\n",
       "      <td>36.525</td>\n",
       "      <td>45.10</td>\n",
       "      <td>17.400</td>\n",
       "    </tr>\n",
       "  </tbody>\n",
       "</table>\n",
       "</div>"
      ],
      "text/plain": [
       "           TV   Radio  Newspaper   Sales\n",
       "0.25   74.375   9.975      12.75  10.375\n",
       "0.50  149.750  22.900      25.75  12.900\n",
       "0.75  218.825  36.525      45.10  17.400"
      ]
     },
     "execution_count": 12,
     "metadata": {},
     "output_type": "execute_result"
    }
   ],
   "source": [
    "data1.quantile([.25,.5,.75])"
   ]
  },
  {
   "cell_type": "markdown",
   "id": "e6898eb9",
   "metadata": {},
   "source": [
    "<font color='blue'><font size=3>Data shows that the spread of advertisement on TV is much wider than other medias</font>"
   ]
  },
  {
   "cell_type": "markdown",
   "id": "0cf87d82",
   "metadata": {},
   "source": [
    "# 3.The manager wants to find out whether the same amount was spent for the three advertisements (TV , Radio and Newspaper). Comment on your findings."
   ]
  },
  {
   "cell_type": "markdown",
   "id": "7defadd9",
   "metadata": {},
   "source": [
    "<font color='green'><font size=3>Manager wants to find whether same amount was spent for three advertisements. For that we need to check whether amount spent of all modes of advts are same or not using oneway Anova\n",
    "   # Hypothesis:\n",
    "    H0: Amount Spent on three Advertisements are same\n",
    "    H1: Amount spent on three advertisements are different"
   ]
  },
  {
   "cell_type": "code",
   "execution_count": 13,
   "id": "773b9e20",
   "metadata": {},
   "outputs": [],
   "source": [
    "data1=data1.drop('Sales',axis=1)\n",
    "fstatistic,pvalue=scp.f_oneway(data1['TV'],data1['Radio'],\n",
    "                               data1['Newspaper'])"
   ]
  },
  {
   "cell_type": "code",
   "execution_count": 14,
   "id": "3a7791d5",
   "metadata": {},
   "outputs": [],
   "source": [
    "# DF within group\n",
    "DFw=np.size(data1)-len(data1.columns)\n",
    "#DF between Group\n",
    "DFb =len(data1.columns)-1"
   ]
  },
  {
   "cell_type": "code",
   "execution_count": 15,
   "id": "cf661b15",
   "metadata": {},
   "outputs": [
    {
     "data": {
      "text/plain": [
       "3.010815204196057"
      ]
     },
     "execution_count": 15,
     "metadata": {},
     "output_type": "execute_result"
    }
   ],
   "source": [
    "fcriteria=scp.f.ppf(1-0.05,DFb,DFw)\n",
    "scp.f.ppf(1-0.05,DFb,DFw)"
   ]
  },
  {
   "cell_type": "markdown",
   "id": "d2c66a7e",
   "metadata": {},
   "source": [
    "<font color='blue'><font size=3>F criteria value for confidence level 0.05 with Df(SSB) 2 \n",
    "and df(SSW) 597 is 3.0108"
   ]
  },
  {
   "cell_type": "code",
   "execution_count": 16,
   "id": "026581c0",
   "metadata": {},
   "outputs": [
    {
     "name": "stdout",
     "output_type": "stream",
     "text": [
      "F score: 358.8514595342597\n",
      "P value: 4.552931539744962e-103\n"
     ]
    }
   ],
   "source": [
    "print('F score:',fstatistic)\n",
    "print('P value:',pvalue)"
   ]
  },
  {
   "cell_type": "markdown",
   "id": "7119f87a",
   "metadata": {},
   "source": [
    "<font color='blue'><font size=3>F score for data is 358.8514 and pvalue is very small"
   ]
  },
  {
   "cell_type": "code",
   "execution_count": 17,
   "id": "7d8e3fd6",
   "metadata": {},
   "outputs": [
    {
     "name": "stdout",
     "output_type": "stream",
     "text": [
      "Reject H0:Amount Spent on three Advertisements are same\n"
     ]
    }
   ],
   "source": [
    "if fstatistic>fcriteria and pvalue<0.05:\n",
    "    print('Reject H0:Amount Spent on three Advertisements are same')\n",
    "else:\n",
    "    print('Reject H1:Amount Spent on three Advertisements are different')"
   ]
  },
  {
   "cell_type": "markdown",
   "id": "e44477e3",
   "metadata": {},
   "source": [
    "<font color='red'><font size=3> As per the test outcome we **failed to Reject that Amount spent on three advertisement are different** and hence Amount spent is different for 3 advertisements"
   ]
  },
  {
   "cell_type": "code",
   "execution_count": null,
   "id": "80e28989",
   "metadata": {},
   "outputs": [],
   "source": []
  }
 ],
 "metadata": {
  "kernelspec": {
   "display_name": "Python 3 (ipykernel)",
   "language": "python",
   "name": "python3"
  },
  "language_info": {
   "codemirror_mode": {
    "name": "ipython",
    "version": 3
   },
   "file_extension": ".py",
   "mimetype": "text/x-python",
   "name": "python",
   "nbconvert_exporter": "python",
   "pygments_lexer": "ipython3",
   "version": "3.8.8"
  }
 },
 "nbformat": 4,
 "nbformat_minor": 5
}
