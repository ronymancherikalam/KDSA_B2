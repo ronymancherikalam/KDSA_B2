{
 "cells": [
  {
   "cell_type": "markdown",
   "id": "1b8c1628",
   "metadata": {},
   "source": [
    "# Importing Libraries"
   ]
  },
  {
   "cell_type": "code",
   "execution_count": 1,
   "id": "6e7f47b4",
   "metadata": {},
   "outputs": [],
   "source": [
    "import pandas as pd\n",
    "import numpy as np\n",
    "import matplotlib.pyplot as plt\n",
    "import seaborn as sns"
   ]
  },
  {
   "cell_type": "markdown",
   "id": "42d51fc1",
   "metadata": {},
   "source": [
    "# Importing dataset"
   ]
  },
  {
   "cell_type": "code",
   "execution_count": 2,
   "id": "48f96851",
   "metadata": {},
   "outputs": [],
   "source": [
    "data =pd.read_csv(\"crash_data_queensland_for_analysis.csv\")"
   ]
  },
  {
   "cell_type": "code",
   "execution_count": 3,
   "id": "49e23d36",
   "metadata": {},
   "outputs": [
    {
     "data": {
      "text/html": [
       "<div>\n",
       "<style scoped>\n",
       "    .dataframe tbody tr th:only-of-type {\n",
       "        vertical-align: middle;\n",
       "    }\n",
       "\n",
       "    .dataframe tbody tr th {\n",
       "        vertical-align: top;\n",
       "    }\n",
       "\n",
       "    .dataframe thead th {\n",
       "        text-align: right;\n",
       "    }\n",
       "</style>\n",
       "<table border=\"1\" class=\"dataframe\">\n",
       "  <thead>\n",
       "    <tr style=\"text-align: right;\">\n",
       "      <th></th>\n",
       "      <th>Year</th>\n",
       "      <th>Police_Region</th>\n",
       "      <th>Severity</th>\n",
       "      <th>Drink_Driving</th>\n",
       "      <th>Driver_Speed</th>\n",
       "      <th>Fatigued_Driver</th>\n",
       "      <th>Defective_Vehicle</th>\n",
       "      <th>Count_Crashes</th>\n",
       "      <th>Count_Fatality</th>\n",
       "      <th>Count_Hospitalised</th>\n",
       "      <th>Count_Medically_Treated</th>\n",
       "      <th>Count_Minor_Injury</th>\n",
       "    </tr>\n",
       "  </thead>\n",
       "  <tbody>\n",
       "    <tr>\n",
       "      <th>0</th>\n",
       "      <td>2001</td>\n",
       "      <td>Brisbane</td>\n",
       "      <td>Fatal</td>\n",
       "      <td>No</td>\n",
       "      <td>No</td>\n",
       "      <td>No</td>\n",
       "      <td>No</td>\n",
       "      <td>25</td>\n",
       "      <td>25</td>\n",
       "      <td>6</td>\n",
       "      <td>4</td>\n",
       "      <td>2.0</td>\n",
       "    </tr>\n",
       "    <tr>\n",
       "      <th>1</th>\n",
       "      <td>2001</td>\n",
       "      <td>Brisbane</td>\n",
       "      <td>Fatal</td>\n",
       "      <td>No</td>\n",
       "      <td>No</td>\n",
       "      <td>No</td>\n",
       "      <td>Yes</td>\n",
       "      <td>1</td>\n",
       "      <td>1</td>\n",
       "      <td>0</td>\n",
       "      <td>0</td>\n",
       "      <td>0.0</td>\n",
       "    </tr>\n",
       "    <tr>\n",
       "      <th>2</th>\n",
       "      <td>2001</td>\n",
       "      <td>Brisbane</td>\n",
       "      <td>Fatal</td>\n",
       "      <td>No</td>\n",
       "      <td>Yes</td>\n",
       "      <td>No</td>\n",
       "      <td>No</td>\n",
       "      <td>8</td>\n",
       "      <td>8</td>\n",
       "      <td>5</td>\n",
       "      <td>0</td>\n",
       "      <td>0.0</td>\n",
       "    </tr>\n",
       "  </tbody>\n",
       "</table>\n",
       "</div>"
      ],
      "text/plain": [
       "   Year Police_Region Severity Drink_Driving Driver_Speed Fatigued_Driver  \\\n",
       "0  2001      Brisbane    Fatal            No           No              No   \n",
       "1  2001      Brisbane    Fatal            No           No              No   \n",
       "2  2001      Brisbane    Fatal            No          Yes              No   \n",
       "\n",
       "  Defective_Vehicle  Count_Crashes  Count_Fatality  Count_Hospitalised  \\\n",
       "0                No             25              25                   6   \n",
       "1               Yes              1               1                   0   \n",
       "2                No              8               8                   5   \n",
       "\n",
       "   Count_Medically_Treated  Count_Minor_Injury  \n",
       "0                        4                 2.0  \n",
       "1                        0                 0.0  \n",
       "2                        0                 0.0  "
      ]
     },
     "execution_count": 3,
     "metadata": {},
     "output_type": "execute_result"
    }
   ],
   "source": [
    "data.head(3)"
   ]
  },
  {
   "cell_type": "code",
   "execution_count": 4,
   "id": "ed6c0aa8",
   "metadata": {},
   "outputs": [
    {
     "data": {
      "text/plain": [
       "(4777, 12)"
      ]
     },
     "execution_count": 4,
     "metadata": {},
     "output_type": "execute_result"
    }
   ],
   "source": [
    "data.shape"
   ]
  },
  {
   "cell_type": "code",
   "execution_count": 5,
   "id": "0f135d89",
   "metadata": {},
   "outputs": [
    {
     "data": {
      "text/plain": [
       "Year                         int64\n",
       "Police_Region               object\n",
       "Severity                    object\n",
       "Drink_Driving               object\n",
       "Driver_Speed                object\n",
       "Fatigued_Driver             object\n",
       "Defective_Vehicle           object\n",
       "Count_Crashes                int64\n",
       "Count_Fatality               int64\n",
       "Count_Hospitalised           int64\n",
       "Count_Medically_Treated      int64\n",
       "Count_Minor_Injury         float64\n",
       "dtype: object"
      ]
     },
     "execution_count": 5,
     "metadata": {},
     "output_type": "execute_result"
    }
   ],
   "source": [
    "data.dtypes"
   ]
  },
  {
   "cell_type": "code",
   "execution_count": 6,
   "id": "c36a2193",
   "metadata": {},
   "outputs": [
    {
     "data": {
      "text/plain": [
       "Year                        0\n",
       "Police_Region              88\n",
       "Severity                    0\n",
       "Drink_Driving               9\n",
       "Driver_Speed                5\n",
       "Fatigued_Driver             7\n",
       "Defective_Vehicle           6\n",
       "Count_Crashes               0\n",
       "Count_Fatality              0\n",
       "Count_Hospitalised          0\n",
       "Count_Medically_Treated     0\n",
       "Count_Minor_Injury         16\n",
       "dtype: int64"
      ]
     },
     "execution_count": 6,
     "metadata": {},
     "output_type": "execute_result"
    }
   ],
   "source": [
    "data.isna().sum()"
   ]
  },
  {
   "cell_type": "code",
   "execution_count": 7,
   "id": "1592ab04",
   "metadata": {},
   "outputs": [],
   "source": [
    "data = data.replace(['No'],0)"
   ]
  },
  {
   "cell_type": "code",
   "execution_count": 8,
   "id": "e0339249",
   "metadata": {},
   "outputs": [],
   "source": [
    "data = data.replace(['Yes'],1)"
   ]
  },
  {
   "cell_type": "code",
   "execution_count": 9,
   "id": "34c8beb5",
   "metadata": {},
   "outputs": [
    {
     "data": {
      "text/html": [
       "<div>\n",
       "<style scoped>\n",
       "    .dataframe tbody tr th:only-of-type {\n",
       "        vertical-align: middle;\n",
       "    }\n",
       "\n",
       "    .dataframe tbody tr th {\n",
       "        vertical-align: top;\n",
       "    }\n",
       "\n",
       "    .dataframe thead th {\n",
       "        text-align: right;\n",
       "    }\n",
       "</style>\n",
       "<table border=\"1\" class=\"dataframe\">\n",
       "  <thead>\n",
       "    <tr style=\"text-align: right;\">\n",
       "      <th></th>\n",
       "      <th>Year</th>\n",
       "      <th>Drink_Driving</th>\n",
       "      <th>Driver_Speed</th>\n",
       "      <th>Fatigued_Driver</th>\n",
       "      <th>Defective_Vehicle</th>\n",
       "      <th>Count_Crashes</th>\n",
       "      <th>Count_Fatality</th>\n",
       "      <th>Count_Hospitalised</th>\n",
       "      <th>Count_Medically_Treated</th>\n",
       "      <th>Count_Minor_Injury</th>\n",
       "    </tr>\n",
       "  </thead>\n",
       "  <tbody>\n",
       "    <tr>\n",
       "      <th>count</th>\n",
       "      <td>4777.000000</td>\n",
       "      <td>4768.000000</td>\n",
       "      <td>4772.000000</td>\n",
       "      <td>4770.000000</td>\n",
       "      <td>4771.000000</td>\n",
       "      <td>4777.000000</td>\n",
       "      <td>4777.000000</td>\n",
       "      <td>4777.000000</td>\n",
       "      <td>4777.000000</td>\n",
       "      <td>4761.000000</td>\n",
       "    </tr>\n",
       "    <tr>\n",
       "      <th>mean</th>\n",
       "      <td>2009.791920</td>\n",
       "      <td>0.387794</td>\n",
       "      <td>0.358759</td>\n",
       "      <td>0.227673</td>\n",
       "      <td>0.234123</td>\n",
       "      <td>75.471635</td>\n",
       "      <td>1.227130</td>\n",
       "      <td>27.521666</td>\n",
       "      <td>31.249529</td>\n",
       "      <td>16.325352</td>\n",
       "    </tr>\n",
       "    <tr>\n",
       "      <th>std</th>\n",
       "      <td>5.946952</td>\n",
       "      <td>0.487298</td>\n",
       "      <td>0.479687</td>\n",
       "      <td>0.419374</td>\n",
       "      <td>0.423494</td>\n",
       "      <td>235.871866</td>\n",
       "      <td>4.790121</td>\n",
       "      <td>138.805187</td>\n",
       "      <td>179.562534</td>\n",
       "      <td>81.774689</td>\n",
       "    </tr>\n",
       "    <tr>\n",
       "      <th>min</th>\n",
       "      <td>2001.000000</td>\n",
       "      <td>0.000000</td>\n",
       "      <td>0.000000</td>\n",
       "      <td>0.000000</td>\n",
       "      <td>0.000000</td>\n",
       "      <td>1.000000</td>\n",
       "      <td>0.000000</td>\n",
       "      <td>0.000000</td>\n",
       "      <td>0.000000</td>\n",
       "      <td>0.000000</td>\n",
       "    </tr>\n",
       "    <tr>\n",
       "      <th>25%</th>\n",
       "      <td>2005.000000</td>\n",
       "      <td>0.000000</td>\n",
       "      <td>0.000000</td>\n",
       "      <td>0.000000</td>\n",
       "      <td>0.000000</td>\n",
       "      <td>2.000000</td>\n",
       "      <td>0.000000</td>\n",
       "      <td>0.000000</td>\n",
       "      <td>0.000000</td>\n",
       "      <td>0.000000</td>\n",
       "    </tr>\n",
       "    <tr>\n",
       "      <th>50%</th>\n",
       "      <td>2009.000000</td>\n",
       "      <td>0.000000</td>\n",
       "      <td>0.000000</td>\n",
       "      <td>0.000000</td>\n",
       "      <td>0.000000</td>\n",
       "      <td>7.000000</td>\n",
       "      <td>0.000000</td>\n",
       "      <td>0.000000</td>\n",
       "      <td>0.000000</td>\n",
       "      <td>0.000000</td>\n",
       "    </tr>\n",
       "    <tr>\n",
       "      <th>75%</th>\n",
       "      <td>2015.000000</td>\n",
       "      <td>1.000000</td>\n",
       "      <td>1.000000</td>\n",
       "      <td>0.000000</td>\n",
       "      <td>0.000000</td>\n",
       "      <td>25.000000</td>\n",
       "      <td>0.000000</td>\n",
       "      <td>3.000000</td>\n",
       "      <td>4.000000</td>\n",
       "      <td>3.000000</td>\n",
       "    </tr>\n",
       "    <tr>\n",
       "      <th>max</th>\n",
       "      <td>2021.000000</td>\n",
       "      <td>1.000000</td>\n",
       "      <td>1.000000</td>\n",
       "      <td>1.000000</td>\n",
       "      <td>1.000000</td>\n",
       "      <td>2190.000000</td>\n",
       "      <td>59.000000</td>\n",
       "      <td>1615.000000</td>\n",
       "      <td>2289.000000</td>\n",
       "      <td>1547.000000</td>\n",
       "    </tr>\n",
       "  </tbody>\n",
       "</table>\n",
       "</div>"
      ],
      "text/plain": [
       "              Year  Drink_Driving  Driver_Speed  Fatigued_Driver  \\\n",
       "count  4777.000000    4768.000000   4772.000000      4770.000000   \n",
       "mean   2009.791920       0.387794      0.358759         0.227673   \n",
       "std       5.946952       0.487298      0.479687         0.419374   \n",
       "min    2001.000000       0.000000      0.000000         0.000000   \n",
       "25%    2005.000000       0.000000      0.000000         0.000000   \n",
       "50%    2009.000000       0.000000      0.000000         0.000000   \n",
       "75%    2015.000000       1.000000      1.000000         0.000000   \n",
       "max    2021.000000       1.000000      1.000000         1.000000   \n",
       "\n",
       "       Defective_Vehicle  Count_Crashes  Count_Fatality  Count_Hospitalised  \\\n",
       "count        4771.000000    4777.000000     4777.000000         4777.000000   \n",
       "mean            0.234123      75.471635        1.227130           27.521666   \n",
       "std             0.423494     235.871866        4.790121          138.805187   \n",
       "min             0.000000       1.000000        0.000000            0.000000   \n",
       "25%             0.000000       2.000000        0.000000            0.000000   \n",
       "50%             0.000000       7.000000        0.000000            0.000000   \n",
       "75%             0.000000      25.000000        0.000000            3.000000   \n",
       "max             1.000000    2190.000000       59.000000         1615.000000   \n",
       "\n",
       "       Count_Medically_Treated  Count_Minor_Injury  \n",
       "count              4777.000000         4761.000000  \n",
       "mean                 31.249529           16.325352  \n",
       "std                 179.562534           81.774689  \n",
       "min                   0.000000            0.000000  \n",
       "25%                   0.000000            0.000000  \n",
       "50%                   0.000000            0.000000  \n",
       "75%                   4.000000            3.000000  \n",
       "max                2289.000000         1547.000000  "
      ]
     },
     "execution_count": 9,
     "metadata": {},
     "output_type": "execute_result"
    }
   ],
   "source": [
    "data.describe()"
   ]
  },
  {
   "cell_type": "code",
   "execution_count": 10,
   "id": "3dd516cb",
   "metadata": {},
   "outputs": [
    {
     "data": {
      "text/plain": [
       "Hospitalisation         1265\n",
       "Medical treatment       1092\n",
       "Minor injury             956\n",
       "Fatal                    811\n",
       "Property damage only     653\n",
       "Name: Severity, dtype: int64"
      ]
     },
     "execution_count": 10,
     "metadata": {},
     "output_type": "execute_result"
    }
   ],
   "source": [
    "data['Severity'].value_counts()"
   ]
  },
  {
   "cell_type": "code",
   "execution_count": 11,
   "id": "f2c3864b",
   "metadata": {},
   "outputs": [],
   "source": [
    "data['Severity'] = data['Severity'].replace(['Property damage only','Minor injury','Hospitalisation', 'Medical treatment', 'Fatal'],[1,2,3,4,5])"
   ]
  },
  {
   "cell_type": "code",
   "execution_count": 12,
   "id": "7b88e55a",
   "metadata": {},
   "outputs": [
    {
     "data": {
      "text/html": [
       "<div>\n",
       "<style scoped>\n",
       "    .dataframe tbody tr th:only-of-type {\n",
       "        vertical-align: middle;\n",
       "    }\n",
       "\n",
       "    .dataframe tbody tr th {\n",
       "        vertical-align: top;\n",
       "    }\n",
       "\n",
       "    .dataframe thead th {\n",
       "        text-align: right;\n",
       "    }\n",
       "</style>\n",
       "<table border=\"1\" class=\"dataframe\">\n",
       "  <thead>\n",
       "    <tr style=\"text-align: right;\">\n",
       "      <th></th>\n",
       "      <th>Year</th>\n",
       "      <th>Police_Region</th>\n",
       "      <th>Severity</th>\n",
       "      <th>Drink_Driving</th>\n",
       "      <th>Driver_Speed</th>\n",
       "      <th>Fatigued_Driver</th>\n",
       "      <th>Defective_Vehicle</th>\n",
       "      <th>Count_Crashes</th>\n",
       "      <th>Count_Fatality</th>\n",
       "      <th>Count_Hospitalised</th>\n",
       "      <th>Count_Medically_Treated</th>\n",
       "      <th>Count_Minor_Injury</th>\n",
       "    </tr>\n",
       "  </thead>\n",
       "  <tbody>\n",
       "    <tr>\n",
       "      <th>0</th>\n",
       "      <td>2001</td>\n",
       "      <td>Brisbane</td>\n",
       "      <td>5</td>\n",
       "      <td>0.0</td>\n",
       "      <td>0.0</td>\n",
       "      <td>0.0</td>\n",
       "      <td>0.0</td>\n",
       "      <td>25</td>\n",
       "      <td>25</td>\n",
       "      <td>6</td>\n",
       "      <td>4</td>\n",
       "      <td>2.0</td>\n",
       "    </tr>\n",
       "    <tr>\n",
       "      <th>1</th>\n",
       "      <td>2001</td>\n",
       "      <td>Brisbane</td>\n",
       "      <td>5</td>\n",
       "      <td>0.0</td>\n",
       "      <td>0.0</td>\n",
       "      <td>0.0</td>\n",
       "      <td>1.0</td>\n",
       "      <td>1</td>\n",
       "      <td>1</td>\n",
       "      <td>0</td>\n",
       "      <td>0</td>\n",
       "      <td>0.0</td>\n",
       "    </tr>\n",
       "    <tr>\n",
       "      <th>2</th>\n",
       "      <td>2001</td>\n",
       "      <td>Brisbane</td>\n",
       "      <td>5</td>\n",
       "      <td>0.0</td>\n",
       "      <td>1.0</td>\n",
       "      <td>0.0</td>\n",
       "      <td>0.0</td>\n",
       "      <td>8</td>\n",
       "      <td>8</td>\n",
       "      <td>5</td>\n",
       "      <td>0</td>\n",
       "      <td>0.0</td>\n",
       "    </tr>\n",
       "    <tr>\n",
       "      <th>3</th>\n",
       "      <td>2001</td>\n",
       "      <td>Brisbane</td>\n",
       "      <td>5</td>\n",
       "      <td>1.0</td>\n",
       "      <td>0.0</td>\n",
       "      <td>0.0</td>\n",
       "      <td>0.0</td>\n",
       "      <td>2</td>\n",
       "      <td>2</td>\n",
       "      <td>0</td>\n",
       "      <td>0</td>\n",
       "      <td>0.0</td>\n",
       "    </tr>\n",
       "    <tr>\n",
       "      <th>4</th>\n",
       "      <td>2001</td>\n",
       "      <td>Brisbane</td>\n",
       "      <td>5</td>\n",
       "      <td>1.0</td>\n",
       "      <td>0.0</td>\n",
       "      <td>0.0</td>\n",
       "      <td>1.0</td>\n",
       "      <td>1</td>\n",
       "      <td>1</td>\n",
       "      <td>3</td>\n",
       "      <td>0</td>\n",
       "      <td>0.0</td>\n",
       "    </tr>\n",
       "  </tbody>\n",
       "</table>\n",
       "</div>"
      ],
      "text/plain": [
       "   Year Police_Region  Severity  Drink_Driving  Driver_Speed  Fatigued_Driver  \\\n",
       "0  2001      Brisbane         5            0.0           0.0              0.0   \n",
       "1  2001      Brisbane         5            0.0           0.0              0.0   \n",
       "2  2001      Brisbane         5            0.0           1.0              0.0   \n",
       "3  2001      Brisbane         5            1.0           0.0              0.0   \n",
       "4  2001      Brisbane         5            1.0           0.0              0.0   \n",
       "\n",
       "   Defective_Vehicle  Count_Crashes  Count_Fatality  Count_Hospitalised  \\\n",
       "0                0.0             25              25                   6   \n",
       "1                1.0              1               1                   0   \n",
       "2                0.0              8               8                   5   \n",
       "3                0.0              2               2                   0   \n",
       "4                1.0              1               1                   3   \n",
       "\n",
       "   Count_Medically_Treated  Count_Minor_Injury  \n",
       "0                        4                 2.0  \n",
       "1                        0                 0.0  \n",
       "2                        0                 0.0  \n",
       "3                        0                 0.0  \n",
       "4                        0                 0.0  "
      ]
     },
     "execution_count": 12,
     "metadata": {},
     "output_type": "execute_result"
    }
   ],
   "source": [
    "data.head()"
   ]
  },
  {
   "cell_type": "code",
   "execution_count": 13,
   "id": "f59ef540",
   "metadata": {},
   "outputs": [
    {
     "name": "stderr",
     "output_type": "stream",
     "text": [
      "/var/folders/y_/9ns43c9113q4cbs56w31sq080000gn/T/ipykernel_14235/4293639434.py:1: FutureWarning: Indexing with multiple keys (implicitly converted to a tuple of keys) will be deprecated, use a list instead.\n",
      "  data.groupby('Police_Region')['Count_Crashes', 'Count_Fatality', 'Count_Hospitalised', 'Count_Medically_Treated', 'Count_Minor_Injury'].median()\n"
     ]
    },
    {
     "data": {
      "text/html": [
       "<div>\n",
       "<style scoped>\n",
       "    .dataframe tbody tr th:only-of-type {\n",
       "        vertical-align: middle;\n",
       "    }\n",
       "\n",
       "    .dataframe tbody tr th {\n",
       "        vertical-align: top;\n",
       "    }\n",
       "\n",
       "    .dataframe thead th {\n",
       "        text-align: right;\n",
       "    }\n",
       "</style>\n",
       "<table border=\"1\" class=\"dataframe\">\n",
       "  <thead>\n",
       "    <tr style=\"text-align: right;\">\n",
       "      <th></th>\n",
       "      <th>Count_Crashes</th>\n",
       "      <th>Count_Fatality</th>\n",
       "      <th>Count_Hospitalised</th>\n",
       "      <th>Count_Medically_Treated</th>\n",
       "      <th>Count_Minor_Injury</th>\n",
       "    </tr>\n",
       "    <tr>\n",
       "      <th>Police_Region</th>\n",
       "      <th></th>\n",
       "      <th></th>\n",
       "      <th></th>\n",
       "      <th></th>\n",
       "      <th></th>\n",
       "    </tr>\n",
       "  </thead>\n",
       "  <tbody>\n",
       "    <tr>\n",
       "      <th>Brisbane</th>\n",
       "      <td>12.0</td>\n",
       "      <td>0.0</td>\n",
       "      <td>0.0</td>\n",
       "      <td>0.0</td>\n",
       "      <td>1.0</td>\n",
       "    </tr>\n",
       "    <tr>\n",
       "      <th>Central</th>\n",
       "      <td>7.0</td>\n",
       "      <td>0.0</td>\n",
       "      <td>0.0</td>\n",
       "      <td>0.0</td>\n",
       "      <td>0.0</td>\n",
       "    </tr>\n",
       "    <tr>\n",
       "      <th>Far Northern</th>\n",
       "      <td>5.0</td>\n",
       "      <td>0.0</td>\n",
       "      <td>0.0</td>\n",
       "      <td>0.0</td>\n",
       "      <td>0.0</td>\n",
       "    </tr>\n",
       "    <tr>\n",
       "      <th>North Coast</th>\n",
       "      <td>11.0</td>\n",
       "      <td>0.0</td>\n",
       "      <td>0.0</td>\n",
       "      <td>0.0</td>\n",
       "      <td>1.0</td>\n",
       "    </tr>\n",
       "    <tr>\n",
       "      <th>Northern</th>\n",
       "      <td>5.0</td>\n",
       "      <td>0.0</td>\n",
       "      <td>0.0</td>\n",
       "      <td>0.0</td>\n",
       "      <td>0.0</td>\n",
       "    </tr>\n",
       "    <tr>\n",
       "      <th>South Eastern</th>\n",
       "      <td>10.0</td>\n",
       "      <td>0.0</td>\n",
       "      <td>0.0</td>\n",
       "      <td>0.0</td>\n",
       "      <td>1.0</td>\n",
       "    </tr>\n",
       "    <tr>\n",
       "      <th>Southern</th>\n",
       "      <td>8.0</td>\n",
       "      <td>0.0</td>\n",
       "      <td>0.0</td>\n",
       "      <td>0.0</td>\n",
       "      <td>0.0</td>\n",
       "    </tr>\n",
       "  </tbody>\n",
       "</table>\n",
       "</div>"
      ],
      "text/plain": [
       "               Count_Crashes  Count_Fatality  Count_Hospitalised  \\\n",
       "Police_Region                                                      \n",
       "Brisbane                12.0             0.0                 0.0   \n",
       "Central                  7.0             0.0                 0.0   \n",
       "Far Northern             5.0             0.0                 0.0   \n",
       "North Coast             11.0             0.0                 0.0   \n",
       "Northern                 5.0             0.0                 0.0   \n",
       "South Eastern           10.0             0.0                 0.0   \n",
       "Southern                 8.0             0.0                 0.0   \n",
       "\n",
       "               Count_Medically_Treated  Count_Minor_Injury  \n",
       "Police_Region                                               \n",
       "Brisbane                           0.0                 1.0  \n",
       "Central                            0.0                 0.0  \n",
       "Far Northern                       0.0                 0.0  \n",
       "North Coast                        0.0                 1.0  \n",
       "Northern                           0.0                 0.0  \n",
       "South Eastern                      0.0                 1.0  \n",
       "Southern                           0.0                 0.0  "
      ]
     },
     "execution_count": 13,
     "metadata": {},
     "output_type": "execute_result"
    }
   ],
   "source": [
    "data.groupby('Police_Region')['Count_Crashes', 'Count_Fatality', 'Count_Hospitalised', 'Count_Medically_Treated', 'Count_Minor_Injury'].median()"
   ]
  },
  {
   "cell_type": "markdown",
   "id": "414ced94",
   "metadata": {},
   "source": [
    "# Handling missing values"
   ]
  },
  {
   "cell_type": "code",
   "execution_count": 14,
   "id": "64c14c29",
   "metadata": {},
   "outputs": [],
   "source": [
    "data.update(data['Police_Region'].fillna('Unknown'))"
   ]
  },
  {
   "cell_type": "code",
   "execution_count": 15,
   "id": "47b11252",
   "metadata": {},
   "outputs": [],
   "source": [
    "grdat=data"
   ]
  },
  {
   "cell_type": "code",
   "execution_count": 16,
   "id": "2d94319d",
   "metadata": {},
   "outputs": [
    {
     "data": {
      "text/plain": [
       "North Coast      722\n",
       "Southern         708\n",
       "Central          687\n",
       "South Eastern    672\n",
       "Brisbane         666\n",
       "Far Northern     632\n",
       "Northern         602\n",
       "Unknown           88\n",
       "Name: Police_Region, dtype: int64"
      ]
     },
     "execution_count": 16,
     "metadata": {},
     "output_type": "execute_result"
    }
   ],
   "source": [
    "data['Police_Region'].value_counts()"
   ]
  },
  {
   "cell_type": "code",
   "execution_count": 17,
   "id": "4a9b5a26",
   "metadata": {},
   "outputs": [
    {
     "data": {
      "text/plain": [
       "Year                        0\n",
       "Police_Region               0\n",
       "Severity                    0\n",
       "Drink_Driving               9\n",
       "Driver_Speed                5\n",
       "Fatigued_Driver             7\n",
       "Defective_Vehicle           6\n",
       "Count_Crashes               0\n",
       "Count_Fatality              0\n",
       "Count_Hospitalised          0\n",
       "Count_Medically_Treated     0\n",
       "Count_Minor_Injury         16\n",
       "dtype: int64"
      ]
     },
     "execution_count": 17,
     "metadata": {},
     "output_type": "execute_result"
    }
   ],
   "source": [
    "data.isna().sum()"
   ]
  },
  {
   "cell_type": "code",
   "execution_count": 18,
   "id": "7660b8dd",
   "metadata": {},
   "outputs": [
    {
     "data": {
      "text/plain": [
       "Drink_Driving  Driver_Speed  Fatigued_Driver  Defective_Vehicle\n",
       "0.0            0.0           0.0              0.0                  687\n",
       "               1.0           0.0              0.0                  659\n",
       "1.0            0.0           0.0              0.0                  659\n",
       "0.0            0.0           1.0              0.0                  598\n",
       "1.0            1.0           0.0              0.0                  588\n",
       "0.0            0.0           0.0              1.0                  566\n",
       "1.0            0.0           1.0              0.0                  305\n",
       "0.0            1.0           0.0              1.0                  255\n",
       "1.0            0.0           0.0              1.0                  194\n",
       "0.0            1.0           1.0              0.0                  108\n",
       "1.0            1.0           0.0              1.0                   60\n",
       "0.0            0.0           1.0              1.0                   34\n",
       "1.0            1.0           1.0              0.0                   32\n",
       "               0.0           1.0              1.0                    3\n",
       "0.0            1.0           1.0              1.0                    1\n",
       "1.0            1.0           1.0              1.0                    1\n",
       "dtype: int64"
      ]
     },
     "execution_count": 18,
     "metadata": {},
     "output_type": "execute_result"
    }
   ],
   "source": [
    "data[['Drink_Driving','Driver_Speed','Fatigued_Driver','Defective_Vehicle']].value_counts()"
   ]
  },
  {
   "cell_type": "code",
   "execution_count": 19,
   "id": "922f78fd",
   "metadata": {},
   "outputs": [],
   "source": [
    "# Filling missing values in nominal variables Drink_Driving,Driver_Speed,Fatigued_Driver,Defective_Vehicle\n",
    "col=['Drink_Driving','Driver_Speed','Fatigued_Driver','Defective_Vehicle']\n",
    "for i in col:\n",
    "    data[i]=data[i].fillna(data[i].mode()[0])"
   ]
  },
  {
   "cell_type": "code",
   "execution_count": 20,
   "id": "403df79a",
   "metadata": {},
   "outputs": [
    {
     "data": {
      "text/plain": [
       "Year                        0\n",
       "Police_Region               0\n",
       "Severity                    0\n",
       "Drink_Driving               0\n",
       "Driver_Speed                0\n",
       "Fatigued_Driver             0\n",
       "Defective_Vehicle           0\n",
       "Count_Crashes               0\n",
       "Count_Fatality              0\n",
       "Count_Hospitalised          0\n",
       "Count_Medically_Treated     0\n",
       "Count_Minor_Injury         16\n",
       "dtype: int64"
      ]
     },
     "execution_count": 20,
     "metadata": {},
     "output_type": "execute_result"
    }
   ],
   "source": [
    "data.isna().sum()"
   ]
  },
  {
   "cell_type": "code",
   "execution_count": 21,
   "id": "fead7e45",
   "metadata": {},
   "outputs": [
    {
     "data": {
      "text/plain": [
       "Text(0.5, 1.0, 'Count Minor Injury')"
      ]
     },
     "execution_count": 21,
     "metadata": {},
     "output_type": "execute_result"
    },
    {
     "data": {
      "image/png": "[encoded data removed]",
      "text/plain": [
       "<Figure size 576x432 with 1 Axes>"
      ]
     },
     "metadata": {
      "needs_background": "light"
     },
     "output_type": "display_data"
    }
   ],
   "source": [
    "#Checking data of Count_Minor_Injury\n",
    "plt.figure(figsize=(8,6))\n",
    "sns.histplot(data=data['Count_Minor_Injury'],kde=True)\n",
    "plt.title('Count Minor Injury')"
   ]
  },
  {
   "cell_type": "code",
   "execution_count": 22,
   "id": "9b1cda9c",
   "metadata": {},
   "outputs": [
    {
     "data": {
      "text/plain": [
       "0.0"
      ]
     },
     "execution_count": 22,
     "metadata": {},
     "output_type": "execute_result"
    }
   ],
   "source": [
    "data['Count_Minor_Injury'].median()"
   ]
  },
  {
   "cell_type": "code",
   "execution_count": 23,
   "id": "59f29f10",
   "metadata": {},
   "outputs": [],
   "source": [
    "#Missing values will be replaced by 0.0\n",
    "data['Count_Minor_Injury']=data['Count_Minor_Injury'].fillna(value=0)"
   ]
  },
  {
   "cell_type": "code",
   "execution_count": 24,
   "id": "ca4a9196",
   "metadata": {},
   "outputs": [
    {
     "data": {
      "text/plain": [
       "Year                       0\n",
       "Police_Region              0\n",
       "Severity                   0\n",
       "Drink_Driving              0\n",
       "Driver_Speed               0\n",
       "Fatigued_Driver            0\n",
       "Defective_Vehicle          0\n",
       "Count_Crashes              0\n",
       "Count_Fatality             0\n",
       "Count_Hospitalised         0\n",
       "Count_Medically_Treated    0\n",
       "Count_Minor_Injury         0\n",
       "dtype: int64"
      ]
     },
     "execution_count": 24,
     "metadata": {},
     "output_type": "execute_result"
    }
   ],
   "source": [
    "#Checking Null values in dataset\n",
    "data.isna().sum()"
   ]
  },
  {
   "cell_type": "code",
   "execution_count": 25,
   "id": "fbd2db72",
   "metadata": {},
   "outputs": [],
   "source": [
    "# All null values are handled"
   ]
  },
  {
   "cell_type": "code",
   "execution_count": 26,
   "id": "53647358",
   "metadata": {},
   "outputs": [
    {
     "data": {
      "image/png": "[encoded data removed]",
      "text/plain": [
       "<Figure size 1080x720 with 6 Axes>"
      ]
     },
     "metadata": {
      "needs_background": "light"
     },
     "output_type": "display_data"
    }
   ],
   "source": [
    "freq=data[['Count_Crashes', 'Count_Fatality', 'Count_Hospitalised', 'Count_Medically_Treated', 'Count_Minor_Injury']]\n",
    "freq.hist(figsize=(15,10))\n",
    "plt.show()"
   ]
  },
  {
   "cell_type": "code",
   "execution_count": 27,
   "id": "11f4209d",
   "metadata": {},
   "outputs": [
    {
     "data": {
      "text/plain": [
       "Index(['Year', 'Police_Region', 'Severity', 'Drink_Driving', 'Driver_Speed',\n",
       "       'Fatigued_Driver', 'Defective_Vehicle', 'Count_Crashes',\n",
       "       'Count_Fatality', 'Count_Hospitalised', 'Count_Medically_Treated',\n",
       "       'Count_Minor_Injury'],\n",
       "      dtype='object')"
      ]
     },
     "execution_count": 27,
     "metadata": {},
     "output_type": "execute_result"
    }
   ],
   "source": [
    "data.columns"
   ]
  },
  {
   "cell_type": "code",
   "execution_count": 28,
   "id": "399f2570",
   "metadata": {},
   "outputs": [
    {
     "data": {
      "text/html": [
       "<div>\n",
       "<style scoped>\n",
       "    .dataframe tbody tr th:only-of-type {\n",
       "        vertical-align: middle;\n",
       "    }\n",
       "\n",
       "    .dataframe tbody tr th {\n",
       "        vertical-align: top;\n",
       "    }\n",
       "\n",
       "    .dataframe thead th {\n",
       "        text-align: right;\n",
       "    }\n",
       "</style>\n",
       "<table border=\"1\" class=\"dataframe\">\n",
       "  <thead>\n",
       "    <tr style=\"text-align: right;\">\n",
       "      <th></th>\n",
       "      <th>Year</th>\n",
       "      <th>Police_Region</th>\n",
       "      <th>Severity</th>\n",
       "      <th>Drink_Driving</th>\n",
       "      <th>Driver_Speed</th>\n",
       "      <th>Fatigued_Driver</th>\n",
       "      <th>Defective_Vehicle</th>\n",
       "      <th>Count_Crashes</th>\n",
       "      <th>Count_Fatality</th>\n",
       "      <th>Count_Hospitalised</th>\n",
       "      <th>Count_Medically_Treated</th>\n",
       "      <th>Count_Minor_Injury</th>\n",
       "    </tr>\n",
       "  </thead>\n",
       "  <tbody>\n",
       "    <tr>\n",
       "      <th>0</th>\n",
       "      <td>2001</td>\n",
       "      <td>Brisbane</td>\n",
       "      <td>5</td>\n",
       "      <td>0.0</td>\n",
       "      <td>0.0</td>\n",
       "      <td>0.0</td>\n",
       "      <td>0.0</td>\n",
       "      <td>25</td>\n",
       "      <td>25</td>\n",
       "      <td>6</td>\n",
       "      <td>4</td>\n",
       "      <td>2.0</td>\n",
       "    </tr>\n",
       "    <tr>\n",
       "      <th>1</th>\n",
       "      <td>2001</td>\n",
       "      <td>Brisbane</td>\n",
       "      <td>5</td>\n",
       "      <td>0.0</td>\n",
       "      <td>0.0</td>\n",
       "      <td>0.0</td>\n",
       "      <td>1.0</td>\n",
       "      <td>1</td>\n",
       "      <td>1</td>\n",
       "      <td>0</td>\n",
       "      <td>0</td>\n",
       "      <td>0.0</td>\n",
       "    </tr>\n",
       "    <tr>\n",
       "      <th>2</th>\n",
       "      <td>2001</td>\n",
       "      <td>Brisbane</td>\n",
       "      <td>5</td>\n",
       "      <td>0.0</td>\n",
       "      <td>1.0</td>\n",
       "      <td>0.0</td>\n",
       "      <td>0.0</td>\n",
       "      <td>8</td>\n",
       "      <td>8</td>\n",
       "      <td>5</td>\n",
       "      <td>0</td>\n",
       "      <td>0.0</td>\n",
       "    </tr>\n",
       "    <tr>\n",
       "      <th>3</th>\n",
       "      <td>2001</td>\n",
       "      <td>Brisbane</td>\n",
       "      <td>5</td>\n",
       "      <td>1.0</td>\n",
       "      <td>0.0</td>\n",
       "      <td>0.0</td>\n",
       "      <td>0.0</td>\n",
       "      <td>2</td>\n",
       "      <td>2</td>\n",
       "      <td>0</td>\n",
       "      <td>0</td>\n",
       "      <td>0.0</td>\n",
       "    </tr>\n",
       "    <tr>\n",
       "      <th>4</th>\n",
       "      <td>2001</td>\n",
       "      <td>Brisbane</td>\n",
       "      <td>5</td>\n",
       "      <td>1.0</td>\n",
       "      <td>0.0</td>\n",
       "      <td>0.0</td>\n",
       "      <td>1.0</td>\n",
       "      <td>1</td>\n",
       "      <td>1</td>\n",
       "      <td>3</td>\n",
       "      <td>0</td>\n",
       "      <td>0.0</td>\n",
       "    </tr>\n",
       "  </tbody>\n",
       "</table>\n",
       "</div>"
      ],
      "text/plain": [
       "   Year Police_Region  Severity  Drink_Driving  Driver_Speed  Fatigued_Driver  \\\n",
       "0  2001      Brisbane         5            0.0           0.0              0.0   \n",
       "1  2001      Brisbane         5            0.0           0.0              0.0   \n",
       "2  2001      Brisbane         5            0.0           1.0              0.0   \n",
       "3  2001      Brisbane         5            1.0           0.0              0.0   \n",
       "4  2001      Brisbane         5            1.0           0.0              0.0   \n",
       "\n",
       "   Defective_Vehicle  Count_Crashes  Count_Fatality  Count_Hospitalised  \\\n",
       "0                0.0             25              25                   6   \n",
       "1                1.0              1               1                   0   \n",
       "2                0.0              8               8                   5   \n",
       "3                0.0              2               2                   0   \n",
       "4                1.0              1               1                   3   \n",
       "\n",
       "   Count_Medically_Treated  Count_Minor_Injury  \n",
       "0                        4                 2.0  \n",
       "1                        0                 0.0  \n",
       "2                        0                 0.0  \n",
       "3                        0                 0.0  \n",
       "4                        0                 0.0  "
      ]
     },
     "execution_count": 28,
     "metadata": {},
     "output_type": "execute_result"
    }
   ],
   "source": [
    "data.head()"
   ]
  },
  {
   "cell_type": "code",
   "execution_count": 29,
   "id": "81c6eec1",
   "metadata": {},
   "outputs": [
    {
     "data": {
      "text/plain": [
       "<AxesSubplot:>"
      ]
     },
     "execution_count": 29,
     "metadata": {},
     "output_type": "execute_result"
    },
    {
     "data": {
      "image/png": "[encoded data removed]",
      "text/plain": [
       "<Figure size 1440x720 with 1 Axes>"
      ]
     },
     "metadata": {
      "needs_background": "light"
     },
     "output_type": "display_data"
    }
   ],
   "source": [
    "plt.figure(figsize=(20,10))\n",
    "sns.boxplot(data=data[['Count_Crashes',\n",
    "       'Count_Fatality', 'Count_Hospitalised', 'Count_Medically_Treated',\n",
    "       'Count_Minor_Injury']])"
   ]
  },
  {
   "cell_type": "code",
   "execution_count": 30,
   "id": "cac18a8f",
   "metadata": {},
   "outputs": [
    {
     "name": "stdout",
     "output_type": "stream",
     "text": [
      "Quartile 1: 2.0\n",
      "Quartile 3: 25.0\n",
      "Inter Quartile Range(IQR): 23.0\n",
      "Lower Limit: -32.5\n",
      "Upper Limit: 59.5\n"
     ]
    }
   ],
   "source": [
    "#Checking outlier of Count_crashes\n",
    "Q1=np.percentile(data['Count_Crashes'],25)\n",
    "Q3=np.percentile(data['Count_Crashes'],75)\n",
    "IQR=Q3-Q1\n",
    "LL=Q1-(1.5*IQR)\n",
    "UL=Q3+(1.5*IQR)\n",
    "print('Quartile 1:',Q1)\n",
    "print('Quartile 3:',Q3)\n",
    "print('Inter Quartile Range(IQR):',IQR)\n",
    "print('Lower Limit:',LL)\n",
    "print('Upper Limit:',UL)"
   ]
  },
  {
   "cell_type": "code",
   "execution_count": 31,
   "id": "e24f0e86",
   "metadata": {},
   "outputs": [
    {
     "data": {
      "text/html": [
       "<div>\n",
       "<style scoped>\n",
       "    .dataframe tbody tr th:only-of-type {\n",
       "        vertical-align: middle;\n",
       "    }\n",
       "\n",
       "    .dataframe tbody tr th {\n",
       "        vertical-align: top;\n",
       "    }\n",
       "\n",
       "    .dataframe thead th {\n",
       "        text-align: right;\n",
       "    }\n",
       "</style>\n",
       "<table border=\"1\" class=\"dataframe\">\n",
       "  <thead>\n",
       "    <tr style=\"text-align: right;\">\n",
       "      <th></th>\n",
       "      <th>Year</th>\n",
       "      <th>Police_Region</th>\n",
       "      <th>Severity</th>\n",
       "      <th>Drink_Driving</th>\n",
       "      <th>Driver_Speed</th>\n",
       "      <th>Fatigued_Driver</th>\n",
       "      <th>Defective_Vehicle</th>\n",
       "      <th>Count_Crashes</th>\n",
       "      <th>Count_Fatality</th>\n",
       "      <th>Count_Hospitalised</th>\n",
       "      <th>Count_Medically_Treated</th>\n",
       "      <th>Count_Minor_Injury</th>\n",
       "    </tr>\n",
       "  </thead>\n",
       "  <tbody>\n",
       "    <tr>\n",
       "      <th>6</th>\n",
       "      <td>2001</td>\n",
       "      <td>Brisbane</td>\n",
       "      <td>3</td>\n",
       "      <td>0.0</td>\n",
       "      <td>0.0</td>\n",
       "      <td>0.0</td>\n",
       "      <td>0.0</td>\n",
       "      <td>978</td>\n",
       "      <td>0</td>\n",
       "      <td>1116</td>\n",
       "      <td>101</td>\n",
       "      <td>69.0</td>\n",
       "    </tr>\n",
       "    <tr>\n",
       "      <th>12</th>\n",
       "      <td>2001</td>\n",
       "      <td>Brisbane</td>\n",
       "      <td>3</td>\n",
       "      <td>1.0</td>\n",
       "      <td>0.0</td>\n",
       "      <td>0.0</td>\n",
       "      <td>0.0</td>\n",
       "      <td>66</td>\n",
       "      <td>0</td>\n",
       "      <td>86</td>\n",
       "      <td>13</td>\n",
       "      <td>2.0</td>\n",
       "    </tr>\n",
       "    <tr>\n",
       "      <th>16</th>\n",
       "      <td>2001</td>\n",
       "      <td>Brisbane</td>\n",
       "      <td>4</td>\n",
       "      <td>0.0</td>\n",
       "      <td>0.0</td>\n",
       "      <td>0.0</td>\n",
       "      <td>0.0</td>\n",
       "      <td>1946</td>\n",
       "      <td>0</td>\n",
       "      <td>0</td>\n",
       "      <td>2289</td>\n",
       "      <td>129.0</td>\n",
       "    </tr>\n",
       "    <tr>\n",
       "      <th>24</th>\n",
       "      <td>2001</td>\n",
       "      <td>Brisbane</td>\n",
       "      <td>2</td>\n",
       "      <td>0.0</td>\n",
       "      <td>0.0</td>\n",
       "      <td>0.0</td>\n",
       "      <td>0.0</td>\n",
       "      <td>1299</td>\n",
       "      <td>0</td>\n",
       "      <td>0</td>\n",
       "      <td>0</td>\n",
       "      <td>1547.0</td>\n",
       "    </tr>\n",
       "    <tr>\n",
       "      <th>34</th>\n",
       "      <td>2001</td>\n",
       "      <td>Brisbane</td>\n",
       "      <td>1</td>\n",
       "      <td>0.0</td>\n",
       "      <td>0.0</td>\n",
       "      <td>0.0</td>\n",
       "      <td>0.0</td>\n",
       "      <td>2023</td>\n",
       "      <td>0</td>\n",
       "      <td>0</td>\n",
       "      <td>0</td>\n",
       "      <td>0.0</td>\n",
       "    </tr>\n",
       "    <tr>\n",
       "      <th>...</th>\n",
       "      <td>...</td>\n",
       "      <td>...</td>\n",
       "      <td>...</td>\n",
       "      <td>...</td>\n",
       "      <td>...</td>\n",
       "      <td>...</td>\n",
       "      <td>...</td>\n",
       "      <td>...</td>\n",
       "      <td>...</td>\n",
       "      <td>...</td>\n",
       "      <td>...</td>\n",
       "      <td>...</td>\n",
       "    </tr>\n",
       "    <tr>\n",
       "      <th>4742</th>\n",
       "      <td>2021</td>\n",
       "      <td>South Eastern</td>\n",
       "      <td>4</td>\n",
       "      <td>0.0</td>\n",
       "      <td>0.0</td>\n",
       "      <td>0.0</td>\n",
       "      <td>0.0</td>\n",
       "      <td>547</td>\n",
       "      <td>0</td>\n",
       "      <td>0</td>\n",
       "      <td>632</td>\n",
       "      <td>55.0</td>\n",
       "    </tr>\n",
       "    <tr>\n",
       "      <th>4748</th>\n",
       "      <td>2021</td>\n",
       "      <td>South Eastern</td>\n",
       "      <td>2</td>\n",
       "      <td>0.0</td>\n",
       "      <td>0.0</td>\n",
       "      <td>0.0</td>\n",
       "      <td>0.0</td>\n",
       "      <td>238</td>\n",
       "      <td>0</td>\n",
       "      <td>0</td>\n",
       "      <td>0</td>\n",
       "      <td>287.0</td>\n",
       "    </tr>\n",
       "    <tr>\n",
       "      <th>4757</th>\n",
       "      <td>2021</td>\n",
       "      <td>Southern</td>\n",
       "      <td>3</td>\n",
       "      <td>0.0</td>\n",
       "      <td>0.0</td>\n",
       "      <td>0.0</td>\n",
       "      <td>0.0</td>\n",
       "      <td>354</td>\n",
       "      <td>0</td>\n",
       "      <td>432</td>\n",
       "      <td>32</td>\n",
       "      <td>37.0</td>\n",
       "    </tr>\n",
       "    <tr>\n",
       "      <th>4765</th>\n",
       "      <td>2021</td>\n",
       "      <td>Southern</td>\n",
       "      <td>4</td>\n",
       "      <td>0.0</td>\n",
       "      <td>0.0</td>\n",
       "      <td>0.0</td>\n",
       "      <td>0.0</td>\n",
       "      <td>228</td>\n",
       "      <td>0</td>\n",
       "      <td>0</td>\n",
       "      <td>285</td>\n",
       "      <td>20.0</td>\n",
       "    </tr>\n",
       "    <tr>\n",
       "      <th>4771</th>\n",
       "      <td>2021</td>\n",
       "      <td>Southern</td>\n",
       "      <td>2</td>\n",
       "      <td>0.0</td>\n",
       "      <td>0.0</td>\n",
       "      <td>0.0</td>\n",
       "      <td>0.0</td>\n",
       "      <td>79</td>\n",
       "      <td>0</td>\n",
       "      <td>0</td>\n",
       "      <td>0</td>\n",
       "      <td>99.0</td>\n",
       "    </tr>\n",
       "  </tbody>\n",
       "</table>\n",
       "<p>648 rows × 12 columns</p>\n",
       "</div>"
      ],
      "text/plain": [
       "      Year  Police_Region  Severity  Drink_Driving  Driver_Speed  \\\n",
       "6     2001       Brisbane         3            0.0           0.0   \n",
       "12    2001       Brisbane         3            1.0           0.0   \n",
       "16    2001       Brisbane         4            0.0           0.0   \n",
       "24    2001       Brisbane         2            0.0           0.0   \n",
       "34    2001       Brisbane         1            0.0           0.0   \n",
       "...    ...            ...       ...            ...           ...   \n",
       "4742  2021  South Eastern         4            0.0           0.0   \n",
       "4748  2021  South Eastern         2            0.0           0.0   \n",
       "4757  2021       Southern         3            0.0           0.0   \n",
       "4765  2021       Southern         4            0.0           0.0   \n",
       "4771  2021       Southern         2            0.0           0.0   \n",
       "\n",
       "      Fatigued_Driver  Defective_Vehicle  Count_Crashes  Count_Fatality  \\\n",
       "6                 0.0                0.0            978               0   \n",
       "12                0.0                0.0             66               0   \n",
       "16                0.0                0.0           1946               0   \n",
       "24                0.0                0.0           1299               0   \n",
       "34                0.0                0.0           2023               0   \n",
       "...               ...                ...            ...             ...   \n",
       "4742              0.0                0.0            547               0   \n",
       "4748              0.0                0.0            238               0   \n",
       "4757              0.0                0.0            354               0   \n",
       "4765              0.0                0.0            228               0   \n",
       "4771              0.0                0.0             79               0   \n",
       "\n",
       "      Count_Hospitalised  Count_Medically_Treated  Count_Minor_Injury  \n",
       "6                   1116                      101                69.0  \n",
       "12                    86                       13                 2.0  \n",
       "16                     0                     2289               129.0  \n",
       "24                     0                        0              1547.0  \n",
       "34                     0                        0                 0.0  \n",
       "...                  ...                      ...                 ...  \n",
       "4742                   0                      632                55.0  \n",
       "4748                   0                        0               287.0  \n",
       "4757                 432                       32                37.0  \n",
       "4765                   0                      285                20.0  \n",
       "4771                   0                        0                99.0  \n",
       "\n",
       "[648 rows x 12 columns]"
      ]
     },
     "execution_count": 31,
     "metadata": {},
     "output_type": "execute_result"
    }
   ],
   "source": [
    "data[ (data['Count_Crashes']>UL)]"
   ]
  },
  {
   "cell_type": "code",
   "execution_count": 32,
   "id": "966d9af9",
   "metadata": {},
   "outputs": [
    {
     "data": {
      "text/plain": [
       "1      967\n",
       "2      434\n",
       "3      292\n",
       "4      236\n",
       "5      185\n",
       "      ... \n",
       "330      1\n",
       "491      1\n",
       "126      1\n",
       "839      1\n",
       "354      1\n",
       "Name: Count_Crashes, Length: 492, dtype: int64"
      ]
     },
     "execution_count": 32,
     "metadata": {},
     "output_type": "execute_result"
    }
   ],
   "source": [
    "data['Count_Crashes'].value_counts()"
   ]
  },
  {
   "cell_type": "code",
   "execution_count": 33,
   "id": "7297a586",
   "metadata": {},
   "outputs": [
    {
     "data": {
      "text/plain": [
       "Int64Index([   6,   12,   16,   24,   34,   37,   41,   50,   58,   65,\n",
       "            ...\n",
       "            4703, 4714, 4720, 4733, 4737, 4742, 4748, 4757, 4765, 4771],\n",
       "           dtype='int64', length=648)"
      ]
     },
     "execution_count": 33,
     "metadata": {},
     "output_type": "execute_result"
    }
   ],
   "source": [
    "#fitting outlier with UL value\n",
    "index=data.loc[(data['Count_Crashes']>UL)].index\n",
    "index"
   ]
  },
  {
   "cell_type": "code",
   "execution_count": 34,
   "id": "cec3b742",
   "metadata": {},
   "outputs": [
    {
     "data": {
      "text/html": [
       "<div>\n",
       "<style scoped>\n",
       "    .dataframe tbody tr th:only-of-type {\n",
       "        vertical-align: middle;\n",
       "    }\n",
       "\n",
       "    .dataframe tbody tr th {\n",
       "        vertical-align: top;\n",
       "    }\n",
       "\n",
       "    .dataframe thead th {\n",
       "        text-align: right;\n",
       "    }\n",
       "</style>\n",
       "<table border=\"1\" class=\"dataframe\">\n",
       "  <thead>\n",
       "    <tr style=\"text-align: right;\">\n",
       "      <th></th>\n",
       "      <th>Year</th>\n",
       "      <th>Police_Region</th>\n",
       "      <th>Severity</th>\n",
       "      <th>Drink_Driving</th>\n",
       "      <th>Driver_Speed</th>\n",
       "      <th>Fatigued_Driver</th>\n",
       "      <th>Defective_Vehicle</th>\n",
       "      <th>Count_Crashes</th>\n",
       "      <th>Count_Fatality</th>\n",
       "      <th>Count_Hospitalised</th>\n",
       "      <th>Count_Medically_Treated</th>\n",
       "      <th>Count_Minor_Injury</th>\n",
       "    </tr>\n",
       "  </thead>\n",
       "  <tbody>\n",
       "  </tbody>\n",
       "</table>\n",
       "</div>"
      ],
      "text/plain": [
       "Empty DataFrame\n",
       "Columns: [Year, Police_Region, Severity, Drink_Driving, Driver_Speed, Fatigued_Driver, Defective_Vehicle, Count_Crashes, Count_Fatality, Count_Hospitalised, Count_Medically_Treated, Count_Minor_Injury]\n",
       "Index: []"
      ]
     },
     "execution_count": 34,
     "metadata": {},
     "output_type": "execute_result"
    }
   ],
   "source": [
    "data.loc[index,'Count_Crashes']=59\n",
    "#checking outlier again\n",
    "data[ (data['Count_Crashes']>UL)]"
   ]
  },
  {
   "cell_type": "code",
   "execution_count": 35,
   "id": "1c65b275",
   "metadata": {},
   "outputs": [
    {
     "name": "stdout",
     "output_type": "stream",
     "text": [
      "Quartile 1: 0.0\n",
      "Quartile 3: 0.0\n",
      "Inter Quartile Range(IQR): 0.0\n",
      "Lower Limit: 0.0\n",
      "Upper Limit: 0.0\n"
     ]
    }
   ],
   "source": [
    "#Checking outlier for Count_Fatality\n",
    "Q1=np.percentile(data['Count_Fatality'],25)\n",
    "Q3=np.percentile(data['Count_Fatality'],75)\n",
    "IQR=Q3-Q1\n",
    "LL=Q1-(1.5*IQR)\n",
    "UL=Q3+(1.5*IQR)\n",
    "print('Quartile 1:',Q1)\n",
    "print('Quartile 3:',Q3)\n",
    "print('Inter Quartile Range(IQR):',IQR)\n",
    "print('Lower Limit:',LL)\n",
    "print('Upper Limit:',UL)"
   ]
  },
  {
   "cell_type": "code",
   "execution_count": 36,
   "id": "7826378b",
   "metadata": {},
   "outputs": [
    {
     "data": {
      "text/plain": [
       "0     3966\n",
       "1      205\n",
       "2      124\n",
       "3       73\n",
       "4       64\n",
       "5       48\n",
       "6       44\n",
       "7       39\n",
       "8       29\n",
       "10      19\n",
       "11      18\n",
       "9       13\n",
       "14      10\n",
       "12       9\n",
       "17       9\n",
       "13       8\n",
       "16       7\n",
       "25       7\n",
       "26       6\n",
       "28       5\n",
       "41       4\n",
       "24       4\n",
       "32       4\n",
       "27       4\n",
       "21       4\n",
       "29       4\n",
       "38       4\n",
       "20       4\n",
       "34       3\n",
       "15       3\n",
       "23       3\n",
       "22       3\n",
       "35       3\n",
       "18       3\n",
       "19       2\n",
       "37       2\n",
       "31       2\n",
       "36       2\n",
       "40       2\n",
       "48       2\n",
       "45       2\n",
       "53       1\n",
       "44       1\n",
       "39       1\n",
       "59       1\n",
       "57       1\n",
       "43       1\n",
       "47       1\n",
       "33       1\n",
       "46       1\n",
       "30       1\n",
       "Name: Count_Fatality, dtype: int64"
      ]
     },
     "execution_count": 36,
     "metadata": {},
     "output_type": "execute_result"
    }
   ],
   "source": [
    "data['Count_Fatality'].value_counts()"
   ]
  },
  {
   "cell_type": "code",
   "execution_count": 37,
   "id": "6b7bddc4",
   "metadata": {},
   "outputs": [],
   "source": [
    "# Since 3966 value is 0 will convert this Variable to nominal by making rest of values as 1\n",
    "data['Count_Fatality']=data['Count_Fatality'].where(data['Count_Fatality']==0,1)"
   ]
  },
  {
   "cell_type": "code",
   "execution_count": 38,
   "id": "bc9a8b2b",
   "metadata": {},
   "outputs": [
    {
     "data": {
      "text/plain": [
       "0    3966\n",
       "1     811\n",
       "Name: Count_Fatality, dtype: int64"
      ]
     },
     "execution_count": 38,
     "metadata": {},
     "output_type": "execute_result"
    }
   ],
   "source": [
    "data['Count_Fatality'].value_counts()\n",
    "#all values other than zeroes are replaces with 1"
   ]
  },
  {
   "cell_type": "code",
   "execution_count": 39,
   "id": "fc927c0d",
   "metadata": {},
   "outputs": [
    {
     "name": "stdout",
     "output_type": "stream",
     "text": [
      "Quartile 1: 0.0\n",
      "Quartile 3: 3.0\n",
      "Inter Quartile Range(IQR): 3.0\n",
      "Lower Limit: -4.5\n",
      "Upper Limit: 7.5\n"
     ]
    }
   ],
   "source": [
    "#Checking outlier for Count_Hospitalised\n",
    "Q1=np.percentile(data['Count_Hospitalised'],25)\n",
    "Q3=np.percentile(data['Count_Hospitalised'],75)\n",
    "IQR=Q3-Q1\n",
    "LL=Q1-(1.5*IQR)\n",
    "UL=Q3+(1.5*IQR)\n",
    "print('Quartile 1:',Q1)\n",
    "print('Quartile 3:',Q3)\n",
    "print('Inter Quartile Range(IQR):',IQR)\n",
    "print('Lower Limit:',LL)\n",
    "print('Upper Limit:',UL)"
   ]
  },
  {
   "cell_type": "code",
   "execution_count": 40,
   "id": "2ca85977",
   "metadata": {},
   "outputs": [
    {
     "data": {
      "text/plain": [
       "0       2971\n",
       "1        340\n",
       "2        183\n",
       "3        132\n",
       "4         84\n",
       "        ... \n",
       "505        1\n",
       "56         1\n",
       "384        1\n",
       "1021       1\n",
       "85         1\n",
       "Name: Count_Hospitalised, Length: 249, dtype: int64"
      ]
     },
     "execution_count": 40,
     "metadata": {},
     "output_type": "execute_result"
    }
   ],
   "source": [
    "data['Count_Hospitalised'].value_counts()"
   ]
  },
  {
   "cell_type": "code",
   "execution_count": 41,
   "id": "729f68a0",
   "metadata": {},
   "outputs": [
    {
     "data": {
      "text/plain": [
       "Int64Index([   6,    7,    8,    9,   12,   15,   44,   50,   51,   52,\n",
       "            ...\n",
       "            4735, 4736, 4737, 4740, 4753, 4757, 4758, 4759, 4760, 4761],\n",
       "           dtype='int64', length=934)"
      ]
     },
     "execution_count": 41,
     "metadata": {},
     "output_type": "execute_result"
    }
   ],
   "source": [
    "#We will fit extreme values with UL value. Since this is count we will take whole number only 7\n",
    "index=data.loc[(data['Count_Hospitalised']>UL)].index\n",
    "index"
   ]
  },
  {
   "cell_type": "code",
   "execution_count": 42,
   "id": "e6401e77",
   "metadata": {},
   "outputs": [
    {
     "data": {
      "text/html": [
       "<div>\n",
       "<style scoped>\n",
       "    .dataframe tbody tr th:only-of-type {\n",
       "        vertical-align: middle;\n",
       "    }\n",
       "\n",
       "    .dataframe tbody tr th {\n",
       "        vertical-align: top;\n",
       "    }\n",
       "\n",
       "    .dataframe thead th {\n",
       "        text-align: right;\n",
       "    }\n",
       "</style>\n",
       "<table border=\"1\" class=\"dataframe\">\n",
       "  <thead>\n",
       "    <tr style=\"text-align: right;\">\n",
       "      <th></th>\n",
       "      <th>Year</th>\n",
       "      <th>Police_Region</th>\n",
       "      <th>Severity</th>\n",
       "      <th>Drink_Driving</th>\n",
       "      <th>Driver_Speed</th>\n",
       "      <th>Fatigued_Driver</th>\n",
       "      <th>Defective_Vehicle</th>\n",
       "      <th>Count_Crashes</th>\n",
       "      <th>Count_Fatality</th>\n",
       "      <th>Count_Hospitalised</th>\n",
       "      <th>Count_Medically_Treated</th>\n",
       "      <th>Count_Minor_Injury</th>\n",
       "    </tr>\n",
       "  </thead>\n",
       "  <tbody>\n",
       "  </tbody>\n",
       "</table>\n",
       "</div>"
      ],
      "text/plain": [
       "Empty DataFrame\n",
       "Columns: [Year, Police_Region, Severity, Drink_Driving, Driver_Speed, Fatigued_Driver, Defective_Vehicle, Count_Crashes, Count_Fatality, Count_Hospitalised, Count_Medically_Treated, Count_Minor_Injury]\n",
       "Index: []"
      ]
     },
     "execution_count": 42,
     "metadata": {},
     "output_type": "execute_result"
    }
   ],
   "source": [
    "data.loc[index,'Count_Hospitalised']=7\n",
    "#checking outlier again\n",
    "data[ (data['Count_Hospitalised']>UL)]"
   ]
  },
  {
   "cell_type": "code",
   "execution_count": 43,
   "id": "72bdb9fd",
   "metadata": {},
   "outputs": [
    {
     "name": "stdout",
     "output_type": "stream",
     "text": [
      "Quartile 1: 0.0\n",
      "Quartile 3: 4.0\n",
      "Inter Quartile Range(IQR): 4.0\n",
      "Lower Limit: -6.0\n",
      "Upper Limit: 10.0\n"
     ]
    }
   ],
   "source": [
    "#Checking outlier for Count_Medically_Treated\n",
    "Q1=np.percentile(data['Count_Medically_Treated'],25)\n",
    "Q3=np.percentile(data['Count_Medically_Treated'],75)\n",
    "IQR=Q3-Q1\n",
    "LL=Q1-(1.5*IQR)\n",
    "UL=Q3+(1.5*IQR)\n",
    "print('Quartile 1:',Q1)\n",
    "print('Quartile 3:',Q3)\n",
    "print('Inter Quartile Range(IQR):',IQR)\n",
    "print('Lower Limit:',LL)\n",
    "print('Upper Limit:',UL)"
   ]
  },
  {
   "cell_type": "code",
   "execution_count": 44,
   "id": "59edfea8",
   "metadata": {},
   "outputs": [
    {
     "data": {
      "text/plain": [
       "0       2560\n",
       "1        460\n",
       "2        266\n",
       "3        180\n",
       "4        128\n",
       "        ... \n",
       "2160       1\n",
       "337        1\n",
       "126        1\n",
       "1102       1\n",
       "533        1\n",
       "Name: Count_Medically_Treated, Length: 255, dtype: int64"
      ]
     },
     "execution_count": 44,
     "metadata": {},
     "output_type": "execute_result"
    }
   ],
   "source": [
    "data['Count_Medically_Treated'].value_counts()"
   ]
  },
  {
   "cell_type": "code",
   "execution_count": 45,
   "id": "4e76402a",
   "metadata": {},
   "outputs": [
    {
     "data": {
      "text/plain": [
       "Int64Index([   6,   12,   16,   17,   19,   21,   23,   50,   58,   59,\n",
       "            ...\n",
       "            4700, 4714, 4720, 4733, 4742, 4745, 4757, 4765, 4768, 4769],\n",
       "           dtype='int64', length=790)"
      ]
     },
     "execution_count": 45,
     "metadata": {},
     "output_type": "execute_result"
    }
   ],
   "source": [
    "#We will fit extreme values with UL value. \n",
    "index=data.loc[(data['Count_Medically_Treated']>UL)].index\n",
    "index"
   ]
  },
  {
   "cell_type": "code",
   "execution_count": 46,
   "id": "99d2dee3",
   "metadata": {},
   "outputs": [
    {
     "data": {
      "text/html": [
       "<div>\n",
       "<style scoped>\n",
       "    .dataframe tbody tr th:only-of-type {\n",
       "        vertical-align: middle;\n",
       "    }\n",
       "\n",
       "    .dataframe tbody tr th {\n",
       "        vertical-align: top;\n",
       "    }\n",
       "\n",
       "    .dataframe thead th {\n",
       "        text-align: right;\n",
       "    }\n",
       "</style>\n",
       "<table border=\"1\" class=\"dataframe\">\n",
       "  <thead>\n",
       "    <tr style=\"text-align: right;\">\n",
       "      <th></th>\n",
       "      <th>Year</th>\n",
       "      <th>Police_Region</th>\n",
       "      <th>Severity</th>\n",
       "      <th>Drink_Driving</th>\n",
       "      <th>Driver_Speed</th>\n",
       "      <th>Fatigued_Driver</th>\n",
       "      <th>Defective_Vehicle</th>\n",
       "      <th>Count_Crashes</th>\n",
       "      <th>Count_Fatality</th>\n",
       "      <th>Count_Hospitalised</th>\n",
       "      <th>Count_Medically_Treated</th>\n",
       "      <th>Count_Minor_Injury</th>\n",
       "    </tr>\n",
       "  </thead>\n",
       "  <tbody>\n",
       "  </tbody>\n",
       "</table>\n",
       "</div>"
      ],
      "text/plain": [
       "Empty DataFrame\n",
       "Columns: [Year, Police_Region, Severity, Drink_Driving, Driver_Speed, Fatigued_Driver, Defective_Vehicle, Count_Crashes, Count_Fatality, Count_Hospitalised, Count_Medically_Treated, Count_Minor_Injury]\n",
       "Index: []"
      ]
     },
     "execution_count": 46,
     "metadata": {},
     "output_type": "execute_result"
    }
   ],
   "source": [
    "data.loc[index,'Count_Medically_Treated']=UL\n",
    "#checking outlier again\n",
    "data[ (data['Count_Medically_Treated']>UL)]"
   ]
  },
  {
   "cell_type": "code",
   "execution_count": 47,
   "id": "ee8eb787",
   "metadata": {},
   "outputs": [
    {
     "name": "stdout",
     "output_type": "stream",
     "text": [
      "Quartile 1: 0.0\n",
      "Quartile 3: 3.0\n",
      "Inter Quartile Range(IQR): 3.0\n",
      "Lower Limit: -4.5\n",
      "Upper Limit: 7.5\n"
     ]
    }
   ],
   "source": [
    "#Checking outlier for Count_Minor_Injury\n",
    "Q1=np.percentile(data['Count_Minor_Injury'],25)\n",
    "Q3=np.percentile(data['Count_Minor_Injury'],75)\n",
    "IQR=Q3-Q1\n",
    "LL=Q1-(1.5*IQR)\n",
    "UL=Q3+(1.5*IQR)\n",
    "print('Quartile 1:',Q1)\n",
    "print('Quartile 3:',Q3)\n",
    "print('Inter Quartile Range(IQR):',IQR)\n",
    "print('Lower Limit:',LL)\n",
    "print('Upper Limit:',UL)"
   ]
  },
  {
   "cell_type": "code",
   "execution_count": 48,
   "id": "bf621c36",
   "metadata": {},
   "outputs": [
    {
     "data": {
      "text/plain": [
       "Int64Index([   6,    9,   16,   24,   25,   27,   29,   58,   65,   67,\n",
       "            ...\n",
       "            4714, 4720, 4725, 4733, 4742, 4748, 4752, 4757, 4765, 4771],\n",
       "           dtype='int64', length=744)"
      ]
     },
     "execution_count": 48,
     "metadata": {},
     "output_type": "execute_result"
    }
   ],
   "source": [
    "#We will fit extreme values with UL value. Since this is count we will take whole number only 7\n",
    "index=data.loc[(data['Count_Minor_Injury']>UL)].index\n",
    "index"
   ]
  },
  {
   "cell_type": "code",
   "execution_count": 49,
   "id": "28e2dd24",
   "metadata": {},
   "outputs": [
    {
     "data": {
      "text/html": [
       "<div>\n",
       "<style scoped>\n",
       "    .dataframe tbody tr th:only-of-type {\n",
       "        vertical-align: middle;\n",
       "    }\n",
       "\n",
       "    .dataframe tbody tr th {\n",
       "        vertical-align: top;\n",
       "    }\n",
       "\n",
       "    .dataframe thead th {\n",
       "        text-align: right;\n",
       "    }\n",
       "</style>\n",
       "<table border=\"1\" class=\"dataframe\">\n",
       "  <thead>\n",
       "    <tr style=\"text-align: right;\">\n",
       "      <th></th>\n",
       "      <th>Year</th>\n",
       "      <th>Police_Region</th>\n",
       "      <th>Severity</th>\n",
       "      <th>Drink_Driving</th>\n",
       "      <th>Driver_Speed</th>\n",
       "      <th>Fatigued_Driver</th>\n",
       "      <th>Defective_Vehicle</th>\n",
       "      <th>Count_Crashes</th>\n",
       "      <th>Count_Fatality</th>\n",
       "      <th>Count_Hospitalised</th>\n",
       "      <th>Count_Medically_Treated</th>\n",
       "      <th>Count_Minor_Injury</th>\n",
       "    </tr>\n",
       "  </thead>\n",
       "  <tbody>\n",
       "  </tbody>\n",
       "</table>\n",
       "</div>"
      ],
      "text/plain": [
       "Empty DataFrame\n",
       "Columns: [Year, Police_Region, Severity, Drink_Driving, Driver_Speed, Fatigued_Driver, Defective_Vehicle, Count_Crashes, Count_Fatality, Count_Hospitalised, Count_Medically_Treated, Count_Minor_Injury]\n",
       "Index: []"
      ]
     },
     "execution_count": 49,
     "metadata": {},
     "output_type": "execute_result"
    }
   ],
   "source": [
    "data.loc[index,'Count_Minor_Injury']=UL\n",
    "#checking outlier again\n",
    "data[ (data['Count_Minor_Injury']>UL)]"
   ]
  },
  {
   "cell_type": "code",
   "execution_count": 50,
   "id": "ffa46af5",
   "metadata": {},
   "outputs": [
    {
     "data": {
      "text/plain": [
       "<AxesSubplot:>"
      ]
     },
     "execution_count": 50,
     "metadata": {},
     "output_type": "execute_result"
    },
    {
     "data": {
      "image/png": "[encoded data removed]",
      "text/plain": [
       "<Figure size 1440x720 with 1 Axes>"
      ]
     },
     "metadata": {
      "needs_background": "light"
     },
     "output_type": "display_data"
    }
   ],
   "source": [
    "#Checking Dataset Outliers again\n",
    "plt.figure(figsize=(20,10))\n",
    "sns.boxplot(data=data[['Count_Crashes',\n",
    "       'Count_Fatality', 'Count_Hospitalised', 'Count_Medically_Treated',\n",
    "       'Count_Minor_Injury']])"
   ]
  },
  {
   "cell_type": "code",
   "execution_count": 51,
   "id": "8ee387c9",
   "metadata": {},
   "outputs": [
    {
     "data": {
      "text/plain": [
       "<AxesSubplot:>"
      ]
     },
     "execution_count": 51,
     "metadata": {},
     "output_type": "execute_result"
    },
    {
     "data": {
      "image/png": "[encoded data removed]",
      "text/plain": [
       "<Figure size 1080x720 with 2 Axes>"
      ]
     },
     "metadata": {
      "needs_background": "light"
     },
     "output_type": "display_data"
    }
   ],
   "source": [
    "#checking correlation\n",
    "plt.figure(figsize=(15,10))\n",
    "sns.heatmap(data=data.corr(),annot=True,vmin=-1,vmax=1,cmap='viridis')"
   ]
  },
  {
   "cell_type": "markdown",
   "id": "10059ce8",
   "metadata": {},
   "source": [
    "#### As per heatmap there is very low linear correlation between variables. As expected there is a positive correlation between accident severity and fatality"
   ]
  },
  {
   "cell_type": "code",
   "execution_count": 52,
   "id": "95374cbe",
   "metadata": {},
   "outputs": [
    {
     "data": {
      "text/html": [
       "<div>\n",
       "<style scoped>\n",
       "    .dataframe tbody tr th:only-of-type {\n",
       "        vertical-align: middle;\n",
       "    }\n",
       "\n",
       "    .dataframe tbody tr th {\n",
       "        vertical-align: top;\n",
       "    }\n",
       "\n",
       "    .dataframe thead th {\n",
       "        text-align: right;\n",
       "    }\n",
       "</style>\n",
       "<table border=\"1\" class=\"dataframe\">\n",
       "  <thead>\n",
       "    <tr style=\"text-align: right;\">\n",
       "      <th></th>\n",
       "      <th>Year</th>\n",
       "      <th>Police_Region</th>\n",
       "      <th>Severity</th>\n",
       "      <th>Drink_Driving</th>\n",
       "      <th>Driver_Speed</th>\n",
       "      <th>Fatigued_Driver</th>\n",
       "      <th>Defective_Vehicle</th>\n",
       "      <th>Count_Crashes</th>\n",
       "      <th>Count_Fatality</th>\n",
       "      <th>Count_Hospitalised</th>\n",
       "      <th>Count_Medically_Treated</th>\n",
       "      <th>Count_Minor_Injury</th>\n",
       "    </tr>\n",
       "  </thead>\n",
       "  <tbody>\n",
       "    <tr>\n",
       "      <th>0</th>\n",
       "      <td>2001</td>\n",
       "      <td>Brisbane</td>\n",
       "      <td>5</td>\n",
       "      <td>0.0</td>\n",
       "      <td>0.0</td>\n",
       "      <td>0.0</td>\n",
       "      <td>0.0</td>\n",
       "      <td>25</td>\n",
       "      <td>1</td>\n",
       "      <td>6</td>\n",
       "      <td>4</td>\n",
       "      <td>2.0</td>\n",
       "    </tr>\n",
       "    <tr>\n",
       "      <th>1</th>\n",
       "      <td>2001</td>\n",
       "      <td>Brisbane</td>\n",
       "      <td>5</td>\n",
       "      <td>0.0</td>\n",
       "      <td>0.0</td>\n",
       "      <td>0.0</td>\n",
       "      <td>1.0</td>\n",
       "      <td>1</td>\n",
       "      <td>1</td>\n",
       "      <td>0</td>\n",
       "      <td>0</td>\n",
       "      <td>0.0</td>\n",
       "    </tr>\n",
       "    <tr>\n",
       "      <th>2</th>\n",
       "      <td>2001</td>\n",
       "      <td>Brisbane</td>\n",
       "      <td>5</td>\n",
       "      <td>0.0</td>\n",
       "      <td>1.0</td>\n",
       "      <td>0.0</td>\n",
       "      <td>0.0</td>\n",
       "      <td>8</td>\n",
       "      <td>1</td>\n",
       "      <td>5</td>\n",
       "      <td>0</td>\n",
       "      <td>0.0</td>\n",
       "    </tr>\n",
       "    <tr>\n",
       "      <th>3</th>\n",
       "      <td>2001</td>\n",
       "      <td>Brisbane</td>\n",
       "      <td>5</td>\n",
       "      <td>1.0</td>\n",
       "      <td>0.0</td>\n",
       "      <td>0.0</td>\n",
       "      <td>0.0</td>\n",
       "      <td>2</td>\n",
       "      <td>1</td>\n",
       "      <td>0</td>\n",
       "      <td>0</td>\n",
       "      <td>0.0</td>\n",
       "    </tr>\n",
       "    <tr>\n",
       "      <th>4</th>\n",
       "      <td>2001</td>\n",
       "      <td>Brisbane</td>\n",
       "      <td>5</td>\n",
       "      <td>1.0</td>\n",
       "      <td>0.0</td>\n",
       "      <td>0.0</td>\n",
       "      <td>1.0</td>\n",
       "      <td>1</td>\n",
       "      <td>1</td>\n",
       "      <td>3</td>\n",
       "      <td>0</td>\n",
       "      <td>0.0</td>\n",
       "    </tr>\n",
       "  </tbody>\n",
       "</table>\n",
       "</div>"
      ],
      "text/plain": [
       "   Year Police_Region  Severity  Drink_Driving  Driver_Speed  Fatigued_Driver  \\\n",
       "0  2001      Brisbane         5            0.0           0.0              0.0   \n",
       "1  2001      Brisbane         5            0.0           0.0              0.0   \n",
       "2  2001      Brisbane         5            0.0           1.0              0.0   \n",
       "3  2001      Brisbane         5            1.0           0.0              0.0   \n",
       "4  2001      Brisbane         5            1.0           0.0              0.0   \n",
       "\n",
       "   Defective_Vehicle  Count_Crashes  Count_Fatality  Count_Hospitalised  \\\n",
       "0                0.0             25               1                   6   \n",
       "1                1.0              1               1                   0   \n",
       "2                0.0              8               1                   5   \n",
       "3                0.0              2               1                   0   \n",
       "4                1.0              1               1                   3   \n",
       "\n",
       "   Count_Medically_Treated  Count_Minor_Injury  \n",
       "0                        4                 2.0  \n",
       "1                        0                 0.0  \n",
       "2                        0                 0.0  \n",
       "3                        0                 0.0  \n",
       "4                        0                 0.0  "
      ]
     },
     "execution_count": 52,
     "metadata": {},
     "output_type": "execute_result"
    }
   ],
   "source": [
    "data.head()"
   ]
  },
  {
   "cell_type": "code",
   "execution_count": 53,
   "id": "07a45188",
   "metadata": {},
   "outputs": [
    {
     "name": "stdout",
     "output_type": "stream",
     "text": [
      "<class 'pandas.core.frame.DataFrame'>\n",
      "RangeIndex: 4777 entries, 0 to 4776\n",
      "Data columns (total 12 columns):\n",
      " #   Column                   Non-Null Count  Dtype  \n",
      "---  ------                   --------------  -----  \n",
      " 0   Year                     4777 non-null   int64  \n",
      " 1   Police_Region            4777 non-null   object \n",
      " 2   Severity                 4777 non-null   int64  \n",
      " 3   Drink_Driving            4777 non-null   float64\n",
      " 4   Driver_Speed             4777 non-null   float64\n",
      " 5   Fatigued_Driver          4777 non-null   float64\n",
      " 6   Defective_Vehicle        4777 non-null   float64\n",
      " 7   Count_Crashes            4777 non-null   int64  \n",
      " 8   Count_Fatality           4777 non-null   int64  \n",
      " 9   Count_Hospitalised       4777 non-null   int64  \n",
      " 10  Count_Medically_Treated  4777 non-null   int64  \n",
      " 11  Count_Minor_Injury       4777 non-null   float64\n",
      "dtypes: float64(5), int64(6), object(1)\n",
      "memory usage: 448.0+ KB\n"
     ]
    }
   ],
   "source": [
    "data.info()"
   ]
  },
  {
   "cell_type": "code",
   "execution_count": 54,
   "id": "578d3677",
   "metadata": {},
   "outputs": [
    {
     "data": {
      "image/png": "[encoded data removed]",
      "text/plain": [
       "<Figure size 1080x720 with 12 Axes>"
      ]
     },
     "metadata": {
      "needs_background": "light"
     },
     "output_type": "display_data"
    }
   ],
   "source": [
    "freq=data.select_dtypes('number')\n",
    "freq.hist(figsize=(15,10))\n",
    "plt.show()"
   ]
  },
  {
   "cell_type": "markdown",
   "id": "6b8447f1",
   "metadata": {},
   "source": [
    "# Normalisation"
   ]
  },
  {
   "cell_type": "code",
   "execution_count": 55,
   "id": "11dcc0cb",
   "metadata": {},
   "outputs": [
    {
     "data": {
      "text/html": [
       "<div>\n",
       "<style scoped>\n",
       "    .dataframe tbody tr th:only-of-type {\n",
       "        vertical-align: middle;\n",
       "    }\n",
       "\n",
       "    .dataframe tbody tr th {\n",
       "        vertical-align: top;\n",
       "    }\n",
       "\n",
       "    .dataframe thead th {\n",
       "        text-align: right;\n",
       "    }\n",
       "</style>\n",
       "<table border=\"1\" class=\"dataframe\">\n",
       "  <thead>\n",
       "    <tr style=\"text-align: right;\">\n",
       "      <th></th>\n",
       "      <th>Year</th>\n",
       "      <th>Police_Region</th>\n",
       "      <th>Severity</th>\n",
       "      <th>Drink_Driving</th>\n",
       "      <th>Driver_Speed</th>\n",
       "      <th>Fatigued_Driver</th>\n",
       "      <th>Defective_Vehicle</th>\n",
       "      <th>Count_Crashes</th>\n",
       "      <th>Count_Fatality</th>\n",
       "      <th>Count_Hospitalised</th>\n",
       "      <th>Count_Medically_Treated</th>\n",
       "      <th>Count_Minor_Injury</th>\n",
       "    </tr>\n",
       "  </thead>\n",
       "  <tbody>\n",
       "    <tr>\n",
       "      <th>0</th>\n",
       "      <td>2001</td>\n",
       "      <td>Brisbane</td>\n",
       "      <td>5</td>\n",
       "      <td>0.0</td>\n",
       "      <td>0.0</td>\n",
       "      <td>0.0</td>\n",
       "      <td>0.0</td>\n",
       "      <td>25</td>\n",
       "      <td>1</td>\n",
       "      <td>6</td>\n",
       "      <td>4</td>\n",
       "      <td>2.0</td>\n",
       "    </tr>\n",
       "    <tr>\n",
       "      <th>1</th>\n",
       "      <td>2001</td>\n",
       "      <td>Brisbane</td>\n",
       "      <td>5</td>\n",
       "      <td>0.0</td>\n",
       "      <td>0.0</td>\n",
       "      <td>0.0</td>\n",
       "      <td>1.0</td>\n",
       "      <td>1</td>\n",
       "      <td>1</td>\n",
       "      <td>0</td>\n",
       "      <td>0</td>\n",
       "      <td>0.0</td>\n",
       "    </tr>\n",
       "    <tr>\n",
       "      <th>2</th>\n",
       "      <td>2001</td>\n",
       "      <td>Brisbane</td>\n",
       "      <td>5</td>\n",
       "      <td>0.0</td>\n",
       "      <td>1.0</td>\n",
       "      <td>0.0</td>\n",
       "      <td>0.0</td>\n",
       "      <td>8</td>\n",
       "      <td>1</td>\n",
       "      <td>5</td>\n",
       "      <td>0</td>\n",
       "      <td>0.0</td>\n",
       "    </tr>\n",
       "    <tr>\n",
       "      <th>3</th>\n",
       "      <td>2001</td>\n",
       "      <td>Brisbane</td>\n",
       "      <td>5</td>\n",
       "      <td>1.0</td>\n",
       "      <td>0.0</td>\n",
       "      <td>0.0</td>\n",
       "      <td>0.0</td>\n",
       "      <td>2</td>\n",
       "      <td>1</td>\n",
       "      <td>0</td>\n",
       "      <td>0</td>\n",
       "      <td>0.0</td>\n",
       "    </tr>\n",
       "    <tr>\n",
       "      <th>4</th>\n",
       "      <td>2001</td>\n",
       "      <td>Brisbane</td>\n",
       "      <td>5</td>\n",
       "      <td>1.0</td>\n",
       "      <td>0.0</td>\n",
       "      <td>0.0</td>\n",
       "      <td>1.0</td>\n",
       "      <td>1</td>\n",
       "      <td>1</td>\n",
       "      <td>3</td>\n",
       "      <td>0</td>\n",
       "      <td>0.0</td>\n",
       "    </tr>\n",
       "  </tbody>\n",
       "</table>\n",
       "</div>"
      ],
      "text/plain": [
       "   Year Police_Region  Severity  Drink_Driving  Driver_Speed  Fatigued_Driver  \\\n",
       "0  2001      Brisbane         5            0.0           0.0              0.0   \n",
       "1  2001      Brisbane         5            0.0           0.0              0.0   \n",
       "2  2001      Brisbane         5            0.0           1.0              0.0   \n",
       "3  2001      Brisbane         5            1.0           0.0              0.0   \n",
       "4  2001      Brisbane         5            1.0           0.0              0.0   \n",
       "\n",
       "   Defective_Vehicle  Count_Crashes  Count_Fatality  Count_Hospitalised  \\\n",
       "0                0.0             25               1                   6   \n",
       "1                1.0              1               1                   0   \n",
       "2                0.0              8               1                   5   \n",
       "3                0.0              2               1                   0   \n",
       "4                1.0              1               1                   3   \n",
       "\n",
       "   Count_Medically_Treated  Count_Minor_Injury  \n",
       "0                        4                 2.0  \n",
       "1                        0                 0.0  \n",
       "2                        0                 0.0  \n",
       "3                        0                 0.0  \n",
       "4                        0                 0.0  "
      ]
     },
     "execution_count": 55,
     "metadata": {},
     "output_type": "execute_result"
    }
   ],
   "source": [
    "data.head()"
   ]
  },
  {
   "cell_type": "code",
   "execution_count": 56,
   "id": "16242ffe",
   "metadata": {},
   "outputs": [],
   "source": [
    "data1=data.drop(['Year','Police_Region'],axis=1)"
   ]
  },
  {
   "cell_type": "code",
   "execution_count": 57,
   "id": "5722766b",
   "metadata": {},
   "outputs": [
    {
     "data": {
      "text/html": [
       "<div>\n",
       "<style scoped>\n",
       "    .dataframe tbody tr th:only-of-type {\n",
       "        vertical-align: middle;\n",
       "    }\n",
       "\n",
       "    .dataframe tbody tr th {\n",
       "        vertical-align: top;\n",
       "    }\n",
       "\n",
       "    .dataframe thead th {\n",
       "        text-align: right;\n",
       "    }\n",
       "</style>\n",
       "<table border=\"1\" class=\"dataframe\">\n",
       "  <thead>\n",
       "    <tr style=\"text-align: right;\">\n",
       "      <th></th>\n",
       "      <th>Severity</th>\n",
       "      <th>Drink_Driving</th>\n",
       "      <th>Driver_Speed</th>\n",
       "      <th>Fatigued_Driver</th>\n",
       "      <th>Defective_Vehicle</th>\n",
       "      <th>Count_Crashes</th>\n",
       "      <th>Count_Fatality</th>\n",
       "      <th>Count_Hospitalised</th>\n",
       "      <th>Count_Medically_Treated</th>\n",
       "      <th>Count_Minor_Injury</th>\n",
       "    </tr>\n",
       "  </thead>\n",
       "  <tbody>\n",
       "    <tr>\n",
       "      <th>0</th>\n",
       "      <td>5</td>\n",
       "      <td>0.0</td>\n",
       "      <td>0.0</td>\n",
       "      <td>0.0</td>\n",
       "      <td>0.0</td>\n",
       "      <td>25</td>\n",
       "      <td>1</td>\n",
       "      <td>6</td>\n",
       "      <td>4</td>\n",
       "      <td>2.0</td>\n",
       "    </tr>\n",
       "    <tr>\n",
       "      <th>1</th>\n",
       "      <td>5</td>\n",
       "      <td>0.0</td>\n",
       "      <td>0.0</td>\n",
       "      <td>0.0</td>\n",
       "      <td>1.0</td>\n",
       "      <td>1</td>\n",
       "      <td>1</td>\n",
       "      <td>0</td>\n",
       "      <td>0</td>\n",
       "      <td>0.0</td>\n",
       "    </tr>\n",
       "    <tr>\n",
       "      <th>2</th>\n",
       "      <td>5</td>\n",
       "      <td>0.0</td>\n",
       "      <td>1.0</td>\n",
       "      <td>0.0</td>\n",
       "      <td>0.0</td>\n",
       "      <td>8</td>\n",
       "      <td>1</td>\n",
       "      <td>5</td>\n",
       "      <td>0</td>\n",
       "      <td>0.0</td>\n",
       "    </tr>\n",
       "    <tr>\n",
       "      <th>3</th>\n",
       "      <td>5</td>\n",
       "      <td>1.0</td>\n",
       "      <td>0.0</td>\n",
       "      <td>0.0</td>\n",
       "      <td>0.0</td>\n",
       "      <td>2</td>\n",
       "      <td>1</td>\n",
       "      <td>0</td>\n",
       "      <td>0</td>\n",
       "      <td>0.0</td>\n",
       "    </tr>\n",
       "    <tr>\n",
       "      <th>4</th>\n",
       "      <td>5</td>\n",
       "      <td>1.0</td>\n",
       "      <td>0.0</td>\n",
       "      <td>0.0</td>\n",
       "      <td>1.0</td>\n",
       "      <td>1</td>\n",
       "      <td>1</td>\n",
       "      <td>3</td>\n",
       "      <td>0</td>\n",
       "      <td>0.0</td>\n",
       "    </tr>\n",
       "    <tr>\n",
       "      <th>...</th>\n",
       "      <td>...</td>\n",
       "      <td>...</td>\n",
       "      <td>...</td>\n",
       "      <td>...</td>\n",
       "      <td>...</td>\n",
       "      <td>...</td>\n",
       "      <td>...</td>\n",
       "      <td>...</td>\n",
       "      <td>...</td>\n",
       "      <td>...</td>\n",
       "    </tr>\n",
       "    <tr>\n",
       "      <th>4772</th>\n",
       "      <td>2</td>\n",
       "      <td>0.0</td>\n",
       "      <td>0.0</td>\n",
       "      <td>0.0</td>\n",
       "      <td>1.0</td>\n",
       "      <td>1</td>\n",
       "      <td>0</td>\n",
       "      <td>0</td>\n",
       "      <td>0</td>\n",
       "      <td>1.0</td>\n",
       "    </tr>\n",
       "    <tr>\n",
       "      <th>4773</th>\n",
       "      <td>2</td>\n",
       "      <td>0.0</td>\n",
       "      <td>0.0</td>\n",
       "      <td>1.0</td>\n",
       "      <td>0.0</td>\n",
       "      <td>2</td>\n",
       "      <td>0</td>\n",
       "      <td>0</td>\n",
       "      <td>0</td>\n",
       "      <td>2.0</td>\n",
       "    </tr>\n",
       "    <tr>\n",
       "      <th>4774</th>\n",
       "      <td>2</td>\n",
       "      <td>0.0</td>\n",
       "      <td>1.0</td>\n",
       "      <td>0.0</td>\n",
       "      <td>0.0</td>\n",
       "      <td>5</td>\n",
       "      <td>0</td>\n",
       "      <td>0</td>\n",
       "      <td>0</td>\n",
       "      <td>7.0</td>\n",
       "    </tr>\n",
       "    <tr>\n",
       "      <th>4775</th>\n",
       "      <td>2</td>\n",
       "      <td>0.0</td>\n",
       "      <td>1.0</td>\n",
       "      <td>1.0</td>\n",
       "      <td>0.0</td>\n",
       "      <td>1</td>\n",
       "      <td>0</td>\n",
       "      <td>0</td>\n",
       "      <td>0</td>\n",
       "      <td>1.0</td>\n",
       "    </tr>\n",
       "    <tr>\n",
       "      <th>4776</th>\n",
       "      <td>2</td>\n",
       "      <td>1.0</td>\n",
       "      <td>0.0</td>\n",
       "      <td>0.0</td>\n",
       "      <td>0.0</td>\n",
       "      <td>3</td>\n",
       "      <td>0</td>\n",
       "      <td>0</td>\n",
       "      <td>0</td>\n",
       "      <td>3.0</td>\n",
       "    </tr>\n",
       "  </tbody>\n",
       "</table>\n",
       "<p>4777 rows × 10 columns</p>\n",
       "</div>"
      ],
      "text/plain": [
       "      Severity  Drink_Driving  Driver_Speed  Fatigued_Driver  \\\n",
       "0            5            0.0           0.0              0.0   \n",
       "1            5            0.0           0.0              0.0   \n",
       "2            5            0.0           1.0              0.0   \n",
       "3            5            1.0           0.0              0.0   \n",
       "4            5            1.0           0.0              0.0   \n",
       "...        ...            ...           ...              ...   \n",
       "4772         2            0.0           0.0              0.0   \n",
       "4773         2            0.0           0.0              1.0   \n",
       "4774         2            0.0           1.0              0.0   \n",
       "4775         2            0.0           1.0              1.0   \n",
       "4776         2            1.0           0.0              0.0   \n",
       "\n",
       "      Defective_Vehicle  Count_Crashes  Count_Fatality  Count_Hospitalised  \\\n",
       "0                   0.0             25               1                   6   \n",
       "1                   1.0              1               1                   0   \n",
       "2                   0.0              8               1                   5   \n",
       "3                   0.0              2               1                   0   \n",
       "4                   1.0              1               1                   3   \n",
       "...                 ...            ...             ...                 ...   \n",
       "4772                1.0              1               0                   0   \n",
       "4773                0.0              2               0                   0   \n",
       "4774                0.0              5               0                   0   \n",
       "4775                0.0              1               0                   0   \n",
       "4776                0.0              3               0                   0   \n",
       "\n",
       "      Count_Medically_Treated  Count_Minor_Injury  \n",
       "0                           4                 2.0  \n",
       "1                           0                 0.0  \n",
       "2                           0                 0.0  \n",
       "3                           0                 0.0  \n",
       "4                           0                 0.0  \n",
       "...                       ...                 ...  \n",
       "4772                        0                 1.0  \n",
       "4773                        0                 2.0  \n",
       "4774                        0                 7.0  \n",
       "4775                        0                 1.0  \n",
       "4776                        0                 3.0  \n",
       "\n",
       "[4777 rows x 10 columns]"
      ]
     },
     "execution_count": 57,
     "metadata": {},
     "output_type": "execute_result"
    }
   ],
   "source": [
    "data1"
   ]
  },
  {
   "cell_type": "code",
   "execution_count": 58,
   "id": "3343453a",
   "metadata": {},
   "outputs": [],
   "source": [
    "#data1_norm = (data1-data1.min()) / (data1.max()-data1.min())\n",
    "from sklearn import preprocessing\n",
    "x = data1 #returns a numpy array\n",
    "min_max_scaler = preprocessing.MinMaxScaler()\n",
    "x_scaled = min_max_scaler.fit_transform(x)\n",
    "normalized_data1= pd.DataFrame(x_scaled)"
   ]
  },
  {
   "cell_type": "code",
   "execution_count": 59,
   "id": "3d56358b",
   "metadata": {},
   "outputs": [
    {
     "data": {
      "text/html": [
       "<div>\n",
       "<style scoped>\n",
       "    .dataframe tbody tr th:only-of-type {\n",
       "        vertical-align: middle;\n",
       "    }\n",
       "\n",
       "    .dataframe tbody tr th {\n",
       "        vertical-align: top;\n",
       "    }\n",
       "\n",
       "    .dataframe thead th {\n",
       "        text-align: right;\n",
       "    }\n",
       "</style>\n",
       "<table border=\"1\" class=\"dataframe\">\n",
       "  <thead>\n",
       "    <tr style=\"text-align: right;\">\n",
       "      <th></th>\n",
       "      <th>0</th>\n",
       "      <th>1</th>\n",
       "      <th>2</th>\n",
       "      <th>3</th>\n",
       "      <th>4</th>\n",
       "      <th>5</th>\n",
       "      <th>6</th>\n",
       "      <th>7</th>\n",
       "      <th>8</th>\n",
       "      <th>9</th>\n",
       "    </tr>\n",
       "  </thead>\n",
       "  <tbody>\n",
       "    <tr>\n",
       "      <th>0</th>\n",
       "      <td>1.00</td>\n",
       "      <td>0.0</td>\n",
       "      <td>0.0</td>\n",
       "      <td>0.0</td>\n",
       "      <td>0.0</td>\n",
       "      <td>0.413793</td>\n",
       "      <td>1.0</td>\n",
       "      <td>0.857143</td>\n",
       "      <td>0.4</td>\n",
       "      <td>0.266667</td>\n",
       "    </tr>\n",
       "    <tr>\n",
       "      <th>1</th>\n",
       "      <td>1.00</td>\n",
       "      <td>0.0</td>\n",
       "      <td>0.0</td>\n",
       "      <td>0.0</td>\n",
       "      <td>1.0</td>\n",
       "      <td>0.000000</td>\n",
       "      <td>1.0</td>\n",
       "      <td>0.000000</td>\n",
       "      <td>0.0</td>\n",
       "      <td>0.000000</td>\n",
       "    </tr>\n",
       "    <tr>\n",
       "      <th>2</th>\n",
       "      <td>1.00</td>\n",
       "      <td>0.0</td>\n",
       "      <td>1.0</td>\n",
       "      <td>0.0</td>\n",
       "      <td>0.0</td>\n",
       "      <td>0.120690</td>\n",
       "      <td>1.0</td>\n",
       "      <td>0.714286</td>\n",
       "      <td>0.0</td>\n",
       "      <td>0.000000</td>\n",
       "    </tr>\n",
       "    <tr>\n",
       "      <th>3</th>\n",
       "      <td>1.00</td>\n",
       "      <td>1.0</td>\n",
       "      <td>0.0</td>\n",
       "      <td>0.0</td>\n",
       "      <td>0.0</td>\n",
       "      <td>0.017241</td>\n",
       "      <td>1.0</td>\n",
       "      <td>0.000000</td>\n",
       "      <td>0.0</td>\n",
       "      <td>0.000000</td>\n",
       "    </tr>\n",
       "    <tr>\n",
       "      <th>4</th>\n",
       "      <td>1.00</td>\n",
       "      <td>1.0</td>\n",
       "      <td>0.0</td>\n",
       "      <td>0.0</td>\n",
       "      <td>1.0</td>\n",
       "      <td>0.000000</td>\n",
       "      <td>1.0</td>\n",
       "      <td>0.428571</td>\n",
       "      <td>0.0</td>\n",
       "      <td>0.000000</td>\n",
       "    </tr>\n",
       "    <tr>\n",
       "      <th>...</th>\n",
       "      <td>...</td>\n",
       "      <td>...</td>\n",
       "      <td>...</td>\n",
       "      <td>...</td>\n",
       "      <td>...</td>\n",
       "      <td>...</td>\n",
       "      <td>...</td>\n",
       "      <td>...</td>\n",
       "      <td>...</td>\n",
       "      <td>...</td>\n",
       "    </tr>\n",
       "    <tr>\n",
       "      <th>4772</th>\n",
       "      <td>0.25</td>\n",
       "      <td>0.0</td>\n",
       "      <td>0.0</td>\n",
       "      <td>0.0</td>\n",
       "      <td>1.0</td>\n",
       "      <td>0.000000</td>\n",
       "      <td>0.0</td>\n",
       "      <td>0.000000</td>\n",
       "      <td>0.0</td>\n",
       "      <td>0.133333</td>\n",
       "    </tr>\n",
       "    <tr>\n",
       "      <th>4773</th>\n",
       "      <td>0.25</td>\n",
       "      <td>0.0</td>\n",
       "      <td>0.0</td>\n",
       "      <td>1.0</td>\n",
       "      <td>0.0</td>\n",
       "      <td>0.017241</td>\n",
       "      <td>0.0</td>\n",
       "      <td>0.000000</td>\n",
       "      <td>0.0</td>\n",
       "      <td>0.266667</td>\n",
       "    </tr>\n",
       "    <tr>\n",
       "      <th>4774</th>\n",
       "      <td>0.25</td>\n",
       "      <td>0.0</td>\n",
       "      <td>1.0</td>\n",
       "      <td>0.0</td>\n",
       "      <td>0.0</td>\n",
       "      <td>0.068966</td>\n",
       "      <td>0.0</td>\n",
       "      <td>0.000000</td>\n",
       "      <td>0.0</td>\n",
       "      <td>0.933333</td>\n",
       "    </tr>\n",
       "    <tr>\n",
       "      <th>4775</th>\n",
       "      <td>0.25</td>\n",
       "      <td>0.0</td>\n",
       "      <td>1.0</td>\n",
       "      <td>1.0</td>\n",
       "      <td>0.0</td>\n",
       "      <td>0.000000</td>\n",
       "      <td>0.0</td>\n",
       "      <td>0.000000</td>\n",
       "      <td>0.0</td>\n",
       "      <td>0.133333</td>\n",
       "    </tr>\n",
       "    <tr>\n",
       "      <th>4776</th>\n",
       "      <td>0.25</td>\n",
       "      <td>1.0</td>\n",
       "      <td>0.0</td>\n",
       "      <td>0.0</td>\n",
       "      <td>0.0</td>\n",
       "      <td>0.034483</td>\n",
       "      <td>0.0</td>\n",
       "      <td>0.000000</td>\n",
       "      <td>0.0</td>\n",
       "      <td>0.400000</td>\n",
       "    </tr>\n",
       "  </tbody>\n",
       "</table>\n",
       "<p>4777 rows × 10 columns</p>\n",
       "</div>"
      ],
      "text/plain": [
       "         0    1    2    3    4         5    6         7    8         9\n",
       "0     1.00  0.0  0.0  0.0  0.0  0.413793  1.0  0.857143  0.4  0.266667\n",
       "1     1.00  0.0  0.0  0.0  1.0  0.000000  1.0  0.000000  0.0  0.000000\n",
       "2     1.00  0.0  1.0  0.0  0.0  0.120690  1.0  0.714286  0.0  0.000000\n",
       "3     1.00  1.0  0.0  0.0  0.0  0.017241  1.0  0.000000  0.0  0.000000\n",
       "4     1.00  1.0  0.0  0.0  1.0  0.000000  1.0  0.428571  0.0  0.000000\n",
       "...    ...  ...  ...  ...  ...       ...  ...       ...  ...       ...\n",
       "4772  0.25  0.0  0.0  0.0  1.0  0.000000  0.0  0.000000  0.0  0.133333\n",
       "4773  0.25  0.0  0.0  1.0  0.0  0.017241  0.0  0.000000  0.0  0.266667\n",
       "4774  0.25  0.0  1.0  0.0  0.0  0.068966  0.0  0.000000  0.0  0.933333\n",
       "4775  0.25  0.0  1.0  1.0  0.0  0.000000  0.0  0.000000  0.0  0.133333\n",
       "4776  0.25  1.0  0.0  0.0  0.0  0.034483  0.0  0.000000  0.0  0.400000\n",
       "\n",
       "[4777 rows x 10 columns]"
      ]
     },
     "execution_count": 59,
     "metadata": {},
     "output_type": "execute_result"
    }
   ],
   "source": [
    "normalized_data1"
   ]
  },
  {
   "cell_type": "code",
   "execution_count": 60,
   "id": "2eab562d",
   "metadata": {},
   "outputs": [
    {
     "data": {
      "image/png": "[encoded data removed]",
      "text/plain": [
       "<Figure size 1080x720 with 12 Axes>"
      ]
     },
     "metadata": {
      "needs_background": "light"
     },
     "output_type": "display_data"
    }
   ],
   "source": [
    "\n",
    "normalized_data1.hist(figsize=(15,10))\n",
    "plt.show()"
   ]
  },
  {
   "cell_type": "markdown",
   "id": "0794140a",
   "metadata": {},
   "source": [
    "As seen above normalisation is not changing the data distribution. Also since the data is count only we dont need to apply standardisation"
   ]
  },
  {
   "cell_type": "markdown",
   "id": "65a08ecd",
   "metadata": {},
   "source": [
    "# Exploratory Analysis of Data"
   ]
  },
  {
   "cell_type": "markdown",
   "id": "8b25f0fe",
   "metadata": {},
   "source": [
    "# Univariate Analysis"
   ]
  },
  {
   "cell_type": "code",
   "execution_count": 61,
   "id": "0ec76114",
   "metadata": {},
   "outputs": [
    {
     "data": {
      "image/png": "[encoded data removed]",
      "text/plain": [
       "<Figure size 1080x720 with 12 Axes>"
      ]
     },
     "metadata": {
      "needs_background": "light"
     },
     "output_type": "display_data"
    }
   ],
   "source": [
    "freq=data.select_dtypes('number')\n",
    "freq.hist(figsize=(15,10))\n",
    "plt.show()"
   ]
  },
  {
   "cell_type": "markdown",
   "id": "6f18e751",
   "metadata": {},
   "source": [
    "Fatigued_Driver,Drink_Driving,Driver_Speed,Defective_Vehicle,Count_fatality follows nominal values of True or False(1 ,0)\n",
    "\n",
    "Severity ,Count_Crashes,Count_Hospitalised,Count_Medically_treated,Count_Minor_Injury are discrete variables"
   ]
  },
  {
   "cell_type": "code",
   "execution_count": 62,
   "id": "52d532fb",
   "metadata": {},
   "outputs": [
    {
     "data": {
      "image/png": "[encoded data removed]",
      "text/plain": [
       "<Figure size 360x360 with 1 Axes>"
      ]
     },
     "metadata": {},
     "output_type": "display_data"
    }
   ],
   "source": [
    "#Composition of Severity\n",
    "sev=data1.groupby('Severity').Severity.count()\n",
    "sev.plot.pie(y='Severity', figsize=(5, 5),autopct='%1.2f%%',title='Severity grading High to Low => 1-5',\n",
    "                       ylabel='',explode=(0.05, 0.05, 0.05,0.05,0.05),shadow=True, startangle=90)\n",
    "plt.show()"
   ]
  },
  {
   "cell_type": "markdown",
   "id": "f8d164c6",
   "metadata": {},
   "source": [
    "As per analysis Severity 3 is having highest percentage of 26.48%"
   ]
  },
  {
   "cell_type": "code",
   "execution_count": 63,
   "id": "f2f92971",
   "metadata": {},
   "outputs": [
    {
     "data": {
      "text/plain": [
       "Year\n",
       "2001    288\n",
       "2002    292\n",
       "2003    276\n",
       "2004    272\n",
       "2005    274\n",
       "2006    285\n",
       "2007    291\n",
       "2008    277\n",
       "2009    265\n",
       "2010    261\n",
       "2011    186\n",
       "2012    193\n",
       "2013    196\n",
       "2014    189\n",
       "2015    189\n",
       "2016    175\n",
       "2017    178\n",
       "2018    172\n",
       "2019    177\n",
       "2020    177\n",
       "2021    164\n",
       "Name: Severity, dtype: int64"
      ]
     },
     "execution_count": 63,
     "metadata": {},
     "output_type": "execute_result"
    }
   ],
   "source": [
    "yrdat=data.groupby('Year')['Severity'].count()\n",
    "yrdat"
   ]
  },
  {
   "cell_type": "code",
   "execution_count": 64,
   "id": "25a7079e",
   "metadata": {},
   "outputs": [
    {
     "data": {
      "image/png": "[encoded data removed]",
      "text/plain": [
       "<Figure size 864x288 with 1 Axes>"
      ]
     },
     "metadata": {
      "needs_background": "light"
     },
     "output_type": "display_data"
    }
   ],
   "source": [
    "fig= plt.subplots(figsize=(12,4))\n",
    "plt.xticks(rotation=90)\n",
    "ax=sns.lineplot(data=yrdat,markers=True,color='orange')\n",
    "ax.set(ylabel='Accidents Severity Count over the years' )\n",
    "plt.show()"
   ]
  },
  {
   "cell_type": "markdown",
   "id": "039894c0",
   "metadata": {},
   "source": [
    "As per the plot we can see the Accidents is reducing over the year"
   ]
  },
  {
   "cell_type": "markdown",
   "id": "63922d0e",
   "metadata": {},
   "source": [
    "# Bivariate Analysis"
   ]
  },
  {
   "cell_type": "code",
   "execution_count": 65,
   "id": "e41e9790",
   "metadata": {},
   "outputs": [
    {
     "data": {
      "text/plain": [
       "Text(0.5, 1.0, 'ROAD ACCIDENT COUNT BY REGION')"
      ]
     },
     "execution_count": 65,
     "metadata": {},
     "output_type": "execute_result"
    },
    {
     "data": {
      "image/png": "[encoded data removed]",
      "text/plain": [
       "<Figure size 720x576 with 1 Axes>"
      ]
     },
     "metadata": {},
     "output_type": "display_data"
    }
   ],
   "source": [
    "sns.set(rc={'figure.figsize':(10,8)})\n",
    "sns.countplot(x='Severity',hue='Police_Region',data=grdat)\n",
    "plt.title(\"ROAD ACCIDENT COUNT BY REGION\")"
   ]
  },
  {
   "cell_type": "code",
   "execution_count": 66,
   "id": "6baa624a",
   "metadata": {},
   "outputs": [
    {
     "data": {
      "text/plain": [
       "<AxesSubplot:>"
      ]
     },
     "execution_count": 66,
     "metadata": {},
     "output_type": "execute_result"
    },
    {
     "data": {
      "image/png": "[encoded data removed]",
      "text/plain": [
       "<Figure size 1080x720 with 2 Axes>"
      ]
     },
     "metadata": {},
     "output_type": "display_data"
    }
   ],
   "source": [
    "#Checking Correlation\n",
    "plt.figure(figsize=(15,10))\n",
    "sns.heatmap(data=data1.corr(),annot=True,vmin=-1,vmax=1,cmap='viridis')"
   ]
  },
  {
   "cell_type": "markdown",
   "id": "6195a036",
   "metadata": {},
   "source": [
    "As per the heatmap there is a positive correlation between Severity and Count_Fatality"
   ]
  },
  {
   "cell_type": "markdown",
   "id": "97307629",
   "metadata": {},
   "source": [
    "# Modelling"
   ]
  },
  {
   "cell_type": "markdown",
   "id": "2a35ad8e",
   "metadata": {},
   "source": [
    "### Splitting data to train and test data"
   ]
  },
  {
   "cell_type": "code",
   "execution_count": 67,
   "id": "5d14013a",
   "metadata": {},
   "outputs": [],
   "source": [
    "X= data1.drop(['Severity'],axis=1)\n",
    "y=data1['Severity']\n",
    "from sklearn.model_selection import train_test_split\n",
    "X_train,X_test,y_train,y_test=train_test_split(X,y,random_state=0,test_size=0.3)"
   ]
  },
  {
   "cell_type": "code",
   "execution_count": 68,
   "id": "ebea9985",
   "metadata": {},
   "outputs": [],
   "source": [
    "from sklearn.linear_model import LogisticRegression\n",
    "from sklearn.neighbors import KNeighborsClassifier\n",
    "from sklearn.metrics import accuracy_score,classification_report,confusion_matrix\n",
    "from sklearn.metrics import classification_report\n",
    "from sklearn.metrics import confusion_matrix"
   ]
  },
  {
   "cell_type": "markdown",
   "id": "bc9b22f3",
   "metadata": {},
   "source": [
    "### KNN Classifier Model"
   ]
  },
  {
   "cell_type": "code",
   "execution_count": 69,
   "id": "fb9f5407",
   "metadata": {},
   "outputs": [
    {
     "name": "stdout",
     "output_type": "stream",
     "text": [
      "[0.9539748953974896, 0.9525801952580195, 0.9518828451882845, 0.9532775453277545, 0.9595536959553695, 0.9553695955369595, 0.9518828451882845, 0.9525801952580195, 0.9518828451882845, 0.9490934449093444, 0.9504881450488145, 0.9483960948396095, 0.9483960948396095, 0.9463040446304045, 0.9476987447698745, 0.9442119944211994, 0.9449093444909344]\n"
     ]
    }
   ],
   "source": [
    "acc_values=[]\n",
    "neighbors=np.arange(3,20)\n",
    "for k in neighbors:\n",
    "    classifier= KNeighborsClassifier(n_neighbors=k,metric='minkowski')\n",
    "    classifier.fit(X_train,y_train)\n",
    "    y_pred=classifier.predict(X_test)\n",
    "    acc=accuracy_score(y_test,y_pred)\n",
    "    acc_values.append(acc)\n",
    "print(acc_values) "
   ]
  },
  {
   "cell_type": "code",
   "execution_count": 70,
   "id": "9df30ebd",
   "metadata": {},
   "outputs": [
    {
     "data": {
      "text/plain": [
       "Text(0, 0.5, 'accuracy')"
      ]
     },
     "execution_count": 70,
     "metadata": {},
     "output_type": "execute_result"
    },
    {
     "data": {
      "image/png": "[encoded data removed]",
      "text/plain": [
       "<Figure size 432x288 with 1 Axes>"
      ]
     },
     "metadata": {},
     "output_type": "display_data"
    }
   ],
   "source": [
    "plt.figure(figsize=(6,4))\n",
    "plt.plot(neighbors,acc_values,'o-')\n",
    "plt.xlabel('k value')\n",
    "plt.ylabel('accuracy')"
   ]
  },
  {
   "cell_type": "code",
   "execution_count": 71,
   "id": "688afca3",
   "metadata": {},
   "outputs": [
    {
     "name": "stdout",
     "output_type": "stream",
     "text": [
      "Accuracy Score: 95.40\n",
      "Confusion Matrix\n",
      " [[182   0   0   0   3]\n",
      " [  1 279   0   0   1]\n",
      " [  0   3 389   3  11]\n",
      " [  0   1   0 324   0]\n",
      " [  6   0  31   6 194]]\n",
      " Classification Report\n",
      "               precision    recall  f1-score   support\n",
      "\n",
      "           1       0.96      0.98      0.97       185\n",
      "           2       0.99      0.99      0.99       281\n",
      "           3       0.93      0.96      0.94       406\n",
      "           4       0.97      1.00      0.98       325\n",
      "           5       0.93      0.82      0.87       237\n",
      "\n",
      "    accuracy                           0.95      1434\n",
      "   macro avg       0.96      0.95      0.95      1434\n",
      "weighted avg       0.95      0.95      0.95      1434\n",
      "\n"
     ]
    }
   ],
   "source": [
    "#Accuracy is  95% for k=7. So we will try with k=7\n",
    "classifier= KNeighborsClassifier(n_neighbors=3,metric='minkowski')\n",
    "classifier.fit(X_train,y_train) \n",
    "y_pred=classifier.predict(X_test)\n",
    "print('Accuracy Score:',format(accuracy_score(y_test,y_pred)*100,'1.2f'))\n",
    "print('Confusion Matrix\\n',confusion_matrix(y_test,y_pred))\n",
    "print(' Classification Report\\n',classification_report(y_test,y_pred))"
   ]
  },
  {
   "cell_type": "markdown",
   "id": "96fbcee0",
   "metadata": {},
   "source": [
    "### Logistic Regression Model"
   ]
  },
  {
   "cell_type": "code",
   "execution_count": 72,
   "id": "1f3b8258",
   "metadata": {},
   "outputs": [
    {
     "name": "stdout",
     "output_type": "stream",
     "text": [
      "Accuracy Score 99.44\n",
      "Confusion Matrix\n",
      " [[185   0   0   0   0]\n",
      " [  2 279   0   0   0]\n",
      " [  0   1 405   0   0]\n",
      " [  0   2   0 323   0]\n",
      " [  0   0   0   3 234]]\n",
      " Classification Report\n",
      "               precision    recall  f1-score   support\n",
      "\n",
      "           1       0.99      1.00      0.99       185\n",
      "           2       0.99      0.99      0.99       281\n",
      "           3       1.00      1.00      1.00       406\n",
      "           4       0.99      0.99      0.99       325\n",
      "           5       1.00      0.99      0.99       237\n",
      "\n",
      "    accuracy                           0.99      1434\n",
      "   macro avg       0.99      0.99      0.99      1434\n",
      "weighted avg       0.99      0.99      0.99      1434\n",
      "\n"
     ]
    }
   ],
   "source": [
    "lr = LogisticRegression(solver='liblinear')\n",
    "lr.fit(X_train,y_train)\n",
    "y_pred=lr.predict(X_test)\n",
    "print('Accuracy Score',format(accuracy_score(y_test,y_pred)*100,'1.2f'))\n",
    "print('Confusion Matrix\\n',confusion_matrix(y_test,y_pred))\n",
    "print(' Classification Report\\n',classification_report(y_test,y_pred))"
   ]
  },
  {
   "cell_type": "markdown",
   "id": "f4020e97",
   "metadata": {},
   "source": [
    "### Random Forest Model"
   ]
  },
  {
   "cell_type": "code",
   "execution_count": 73,
   "id": "c7499c92",
   "metadata": {},
   "outputs": [
    {
     "name": "stdout",
     "output_type": "stream",
     "text": [
      "Accuracy Score: 99.86\n",
      "Confusion Matrix\n",
      " [[185   0   0   0   0]\n",
      " [  2 279   0   0   0]\n",
      " [  0   0 406   0   0]\n",
      " [  0   0   0 325   0]\n",
      " [  0   0   0   0 237]]\n",
      " Classification Report\n",
      "               precision    recall  f1-score   support\n",
      "\n",
      "           1       0.99      1.00      0.99       185\n",
      "           2       1.00      0.99      1.00       281\n",
      "           3       1.00      1.00      1.00       406\n",
      "           4       1.00      1.00      1.00       325\n",
      "           5       1.00      1.00      1.00       237\n",
      "\n",
      "    accuracy                           1.00      1434\n",
      "   macro avg       1.00      1.00      1.00      1434\n",
      "weighted avg       1.00      1.00      1.00      1434\n",
      "\n"
     ]
    }
   ],
   "source": [
    "from sklearn.ensemble import RandomForestClassifier\n",
    "clf=RandomForestClassifier(n_estimators=100)\n",
    "clf.fit(X_train,y_train)\n",
    "y_pred=clf.predict(X_test)\n",
    "print('Accuracy Score:',format(accuracy_score(y_test,y_pred)*100,'1.2f'))\n",
    "print('Confusion Matrix\\n',confusion_matrix(y_test,y_pred))\n",
    "print(' Classification Report\\n',classification_report(y_test,y_pred))"
   ]
  },
  {
   "cell_type": "markdown",
   "id": "69e8c1d8",
   "metadata": {},
   "source": [
    "## As per above modelling Random Forest is giving highest accuracy of 99.86 with f1 score of 99%"
   ]
  },
  {
   "cell_type": "code",
   "execution_count": null,
   "id": "0ead477c",
   "metadata": {},
   "outputs": [],
   "source": []
  }
 ],
 "metadata": {
  "kernelspec": {
   "display_name": "Python 3 (ipykernel)",
   "language": "python",
   "name": "python3"
  },
  "language_info": {
   "codemirror_mode": {
    "name": "ipython",
    "version": 3
   },
   "file_extension": ".py",
   "mimetype": "text/x-python",
   "name": "python",
   "nbconvert_exporter": "python",
   "pygments_lexer": "ipython3",
   "version": "3.8.8"
  }
 },
 "nbformat": 4,
 "nbformat_minor": 5
}
