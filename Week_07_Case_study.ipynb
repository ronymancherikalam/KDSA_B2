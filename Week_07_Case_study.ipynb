{
 "cells": [
  {
   "cell_type": "code",
   "execution_count": 1,
   "id": "5fdcd58b-96f8-4300-8056-167c6e36558c",
   "metadata": {},
   "outputs": [],
   "source": [
    "# importing libraries"
   ]
  },
  {
   "cell_type": "code",
   "execution_count": 2,
   "id": "b326fe7b-5ab2-41f6-8377-d2dc99b1f4a5",
   "metadata": {},
   "outputs": [],
   "source": [
    "import numpy as np\n",
    "import pandas as pd\n",
    "import scipy.stats as stats\n",
    "#import researchpy as rp"
   ]
  },
  {
   "cell_type": "code",
   "execution_count": 3,
   "id": "6141d4bd-59dc-4607-82a0-1d43b17b11ef",
   "metadata": {},
   "outputs": [],
   "source": [
    "# importing csv file to python"
   ]
  },
  {
   "cell_type": "code",
   "execution_count": 4,
   "id": "21ce4a09-7887-4d57-a3a0-e9e5152ad167",
   "metadata": {},
   "outputs": [],
   "source": [
    "data = pd.read_csv('Sales_add.csv')"
   ]
  },
  {
   "cell_type": "code",
   "execution_count": 5,
   "id": "c894a400-cac6-4ae7-bb39-47e9f4ad2461",
   "metadata": {},
   "outputs": [
    {
     "data": {
      "text/html": [
       "<div>\n",
       "<style scoped>\n",
       "    .dataframe tbody tr th:only-of-type {\n",
       "        vertical-align: middle;\n",
       "    }\n",
       "\n",
       "    .dataframe tbody tr th {\n",
       "        vertical-align: top;\n",
       "    }\n",
       "\n",
       "    .dataframe thead th {\n",
       "        text-align: right;\n",
       "    }\n",
       "</style>\n",
       "<table border=\"1\" class=\"dataframe\">\n",
       "  <thead>\n",
       "    <tr style=\"text-align: right;\">\n",
       "      <th></th>\n",
       "      <th>Month</th>\n",
       "      <th>Region</th>\n",
       "      <th>Manager</th>\n",
       "      <th>Sales_before_digital_add(in $)</th>\n",
       "      <th>Sales_After_digital_add(in $)</th>\n",
       "    </tr>\n",
       "  </thead>\n",
       "  <tbody>\n",
       "    <tr>\n",
       "      <th>0</th>\n",
       "      <td>Month-1</td>\n",
       "      <td>Region - A</td>\n",
       "      <td>Manager - A</td>\n",
       "      <td>132921</td>\n",
       "      <td>270390</td>\n",
       "    </tr>\n",
       "    <tr>\n",
       "      <th>1</th>\n",
       "      <td>Month-2</td>\n",
       "      <td>Region - A</td>\n",
       "      <td>Manager - C</td>\n",
       "      <td>149559</td>\n",
       "      <td>223334</td>\n",
       "    </tr>\n",
       "    <tr>\n",
       "      <th>2</th>\n",
       "      <td>Month-3</td>\n",
       "      <td>Region - B</td>\n",
       "      <td>Manager - A</td>\n",
       "      <td>146278</td>\n",
       "      <td>244243</td>\n",
       "    </tr>\n",
       "    <tr>\n",
       "      <th>3</th>\n",
       "      <td>Month-4</td>\n",
       "      <td>Region - B</td>\n",
       "      <td>Manager - B</td>\n",
       "      <td>152167</td>\n",
       "      <td>231808</td>\n",
       "    </tr>\n",
       "    <tr>\n",
       "      <th>4</th>\n",
       "      <td>Month-5</td>\n",
       "      <td>Region - C</td>\n",
       "      <td>Manager - B</td>\n",
       "      <td>159525</td>\n",
       "      <td>258402</td>\n",
       "    </tr>\n",
       "  </tbody>\n",
       "</table>\n",
       "</div>"
      ],
      "text/plain": [
       "     Month      Region      Manager  Sales_before_digital_add(in $)  \\\n",
       "0  Month-1  Region - A  Manager - A                          132921   \n",
       "1  Month-2  Region - A  Manager - C                          149559   \n",
       "2  Month-3  Region - B  Manager - A                          146278   \n",
       "3  Month-4  Region - B  Manager - B                          152167   \n",
       "4  Month-5  Region - C  Manager - B                          159525   \n",
       "\n",
       "   Sales_After_digital_add(in $)  \n",
       "0                         270390  \n",
       "1                         223334  \n",
       "2                         244243  \n",
       "3                         231808  \n",
       "4                         258402  "
      ]
     },
     "execution_count": 5,
     "metadata": {},
     "output_type": "execute_result"
    }
   ],
   "source": [
    "data.head()"
   ]
  },
  {
   "cell_type": "code",
   "execution_count": 6,
   "id": "db3f1273-bcc0-42c3-b1ea-cec4d2422e25",
   "metadata": {},
   "outputs": [
    {
     "name": "stdout",
     "output_type": "stream",
     "text": [
      "<class 'pandas.core.frame.DataFrame'>\n",
      "RangeIndex: 22 entries, 0 to 21\n",
      "Data columns (total 5 columns):\n",
      " #   Column                          Non-Null Count  Dtype \n",
      "---  ------                          --------------  ----- \n",
      " 0   Month                           22 non-null     object\n",
      " 1   Region                          22 non-null     object\n",
      " 2   Manager                         22 non-null     object\n",
      " 3   Sales_before_digital_add(in $)  22 non-null     int64 \n",
      " 4   Sales_After_digital_add(in $)   22 non-null     int64 \n",
      "dtypes: int64(2), object(3)\n",
      "memory usage: 1008.0+ bytes\n"
     ]
    }
   ],
   "source": [
    "data.info()"
   ]
  },
  {
   "cell_type": "code",
   "execution_count": 7,
   "id": "6086d70b-dcff-4d2d-bfaf-d32a0cee6cc4",
   "metadata": {},
   "outputs": [],
   "source": [
    "# on checking, data is having 5 columns and no null data in any columns"
   ]
  },
  {
   "cell_type": "markdown",
   "id": "26173726-6601-4ecf-9407-635e98f1bec6",
   "metadata": {},
   "source": [
    "# The company wishes to clarify whether there is any increase in sales after stepping into digital marketing."
   ]
  },
  {
   "cell_type": "code",
   "execution_count": 8,
   "id": "e964be11-f143-4d18-91eb-ead2ea544624",
   "metadata": {},
   "outputs": [],
   "source": [
    "# Formulating Hypothesis\n",
    "# H0: There is no increase in sales after stepping to digital marketing,μ1=μ2\n",
    "# H1: There is increase in sales after stepping to digital marketing,μ1>μ2"
   ]
  },
  {
   "cell_type": "code",
   "execution_count": 9,
   "id": "1c6ef0a0-d098-430d-996b-ed32046351b5",
   "metadata": {},
   "outputs": [],
   "source": [
    "# Since we want to test the increase in sales for same sample, \n",
    "# we will use paired sample t test"
   ]
  },
  {
   "cell_type": "code",
   "execution_count": 10,
   "id": "379b2deb-0864-430b-aa5e-7478159abd24",
   "metadata": {},
   "outputs": [],
   "source": [
    "before_add = data['Sales_before_digital_add(in $)']\n",
    "after_add = data['Sales_After_digital_add(in $)']"
   ]
  },
  {
   "cell_type": "code",
   "execution_count": 11,
   "id": "c2ccba27",
   "metadata": {},
   "outputs": [],
   "source": [
    "# Finding Test criteria and Pvalue"
   ]
  },
  {
   "cell_type": "code",
   "execution_count": 12,
   "id": "fbb7e8b4-0e30-4881-b2b7-32d9b35da1f6",
   "metadata": {},
   "outputs": [],
   "source": [
    "tvalue,pvalue = stats.ttest_rel(before_add,after_add,alternative='less')"
   ]
  },
  {
   "cell_type": "code",
   "execution_count": 13,
   "id": "b38ee22e-f311-4ba0-9a16-c5a4828894c3",
   "metadata": {},
   "outputs": [
    {
     "data": {
      "text/plain": [
       "Ttest_relResult(statistic=-12.09070525287017, pvalue=3.168333502287889e-11)"
      ]
     },
     "execution_count": 13,
     "metadata": {},
     "output_type": "execute_result"
    }
   ],
   "source": [
    "stats.ttest_rel(before_add,after_add,alternative='less')"
   ]
  },
  {
   "cell_type": "code",
   "execution_count": 14,
   "id": "c3364889-fb39-4fe6-b69d-65f5160f22d2",
   "metadata": {},
   "outputs": [
    {
     "name": "stdout",
     "output_type": "stream",
     "text": [
      "Reject H0:There is no increase in sales after stepping to digital marketing\n"
     ]
    }
   ],
   "source": [
    "if (pvalue <0.05):\n",
    "    print('Reject H0:There is no increase in sales after stepping to digital marketing')\n",
    "else:\n",
    "    print('Reject H1:There is increase in sales after stepping to digital marketing')"
   ]
  },
  {
   "cell_type": "markdown",
   "id": "1924b593-e23b-412c-a123-7c313f7e1032",
   "metadata": {},
   "source": [
    "As per the hypothesis testing there is **indication of increase in sales** after **stepping into digital marketing**"
   ]
  },
  {
   "cell_type": "markdown",
   "id": "555c8c71-b959-419e-8624-f5f7bf9c64e7",
   "metadata": {},
   "source": [
    "# The company needs to check whether there is any dependency between the features “Region” and “Manager”."
   ]
  },
  {
   "cell_type": "code",
   "execution_count": 15,
   "id": "a1fa5ca4-086d-467c-9033-5a7e956c9ffe",
   "metadata": {},
   "outputs": [],
   "source": [
    "data1=data.groupby('Region')['Manager'].value_counts().unstack()"
   ]
  },
  {
   "cell_type": "code",
   "execution_count": 16,
   "id": "a921a06a-23a9-4d87-920a-a2067f14802d",
   "metadata": {},
   "outputs": [],
   "source": [
    "# grouping variables and factors into row and columns to do chi square test to check dependency\n",
    "# Hypothesis\n",
    "# H0:Region and Manager features are independent\n",
    "# H1:Region and Manager features are dependent"
   ]
  },
  {
   "cell_type": "code",
   "execution_count": 17,
   "id": "b0fe9792-d6b0-4b38-9372-47adcac4ae00",
   "metadata": {},
   "outputs": [
    {
     "data": {
      "text/html": [
       "<div>\n",
       "<style scoped>\n",
       "    .dataframe tbody tr th:only-of-type {\n",
       "        vertical-align: middle;\n",
       "    }\n",
       "\n",
       "    .dataframe tbody tr th {\n",
       "        vertical-align: top;\n",
       "    }\n",
       "\n",
       "    .dataframe thead th {\n",
       "        text-align: right;\n",
       "    }\n",
       "</style>\n",
       "<table border=\"1\" class=\"dataframe\">\n",
       "  <thead>\n",
       "    <tr style=\"text-align: right;\">\n",
       "      <th>Manager</th>\n",
       "      <th>Manager - A</th>\n",
       "      <th>Manager - B</th>\n",
       "      <th>Manager - C</th>\n",
       "    </tr>\n",
       "    <tr>\n",
       "      <th>Region</th>\n",
       "      <th></th>\n",
       "      <th></th>\n",
       "      <th></th>\n",
       "    </tr>\n",
       "  </thead>\n",
       "  <tbody>\n",
       "    <tr>\n",
       "      <th>Region - A</th>\n",
       "      <td>4</td>\n",
       "      <td>3</td>\n",
       "      <td>3</td>\n",
       "    </tr>\n",
       "    <tr>\n",
       "      <th>Region - B</th>\n",
       "      <td>4</td>\n",
       "      <td>1</td>\n",
       "      <td>2</td>\n",
       "    </tr>\n",
       "    <tr>\n",
       "      <th>Region - C</th>\n",
       "      <td>1</td>\n",
       "      <td>3</td>\n",
       "      <td>1</td>\n",
       "    </tr>\n",
       "  </tbody>\n",
       "</table>\n",
       "</div>"
      ],
      "text/plain": [
       "Manager     Manager - A  Manager - B  Manager - C\n",
       "Region                                           \n",
       "Region - A            4            3            3\n",
       "Region - B            4            1            2\n",
       "Region - C            1            3            1"
      ]
     },
     "execution_count": 17,
     "metadata": {},
     "output_type": "execute_result"
    }
   ],
   "source": [
    "data1"
   ]
  },
  {
   "cell_type": "code",
   "execution_count": 18,
   "id": "b2bbee79",
   "metadata": {},
   "outputs": [],
   "source": [
    "# Cross Checking contingency table using crosstab function"
   ]
  },
  {
   "cell_type": "code",
   "execution_count": 19,
   "id": "4877f954-bae5-4714-94ed-e694042c934c",
   "metadata": {},
   "outputs": [
    {
     "data": {
      "text/html": [
       "<div>\n",
       "<style scoped>\n",
       "    .dataframe tbody tr th:only-of-type {\n",
       "        vertical-align: middle;\n",
       "    }\n",
       "\n",
       "    .dataframe tbody tr th {\n",
       "        vertical-align: top;\n",
       "    }\n",
       "\n",
       "    .dataframe thead th {\n",
       "        text-align: right;\n",
       "    }\n",
       "</style>\n",
       "<table border=\"1\" class=\"dataframe\">\n",
       "  <thead>\n",
       "    <tr style=\"text-align: right;\">\n",
       "      <th>Manager</th>\n",
       "      <th>Manager - A</th>\n",
       "      <th>Manager - B</th>\n",
       "      <th>Manager - C</th>\n",
       "    </tr>\n",
       "    <tr>\n",
       "      <th>Region</th>\n",
       "      <th></th>\n",
       "      <th></th>\n",
       "      <th></th>\n",
       "    </tr>\n",
       "  </thead>\n",
       "  <tbody>\n",
       "    <tr>\n",
       "      <th>Region - A</th>\n",
       "      <td>4</td>\n",
       "      <td>3</td>\n",
       "      <td>3</td>\n",
       "    </tr>\n",
       "    <tr>\n",
       "      <th>Region - B</th>\n",
       "      <td>4</td>\n",
       "      <td>1</td>\n",
       "      <td>2</td>\n",
       "    </tr>\n",
       "    <tr>\n",
       "      <th>Region - C</th>\n",
       "      <td>1</td>\n",
       "      <td>3</td>\n",
       "      <td>1</td>\n",
       "    </tr>\n",
       "  </tbody>\n",
       "</table>\n",
       "</div>"
      ],
      "text/plain": [
       "Manager     Manager - A  Manager - B  Manager - C\n",
       "Region                                           \n",
       "Region - A            4            3            3\n",
       "Region - B            4            1            2\n",
       "Region - C            1            3            1"
      ]
     },
     "execution_count": 19,
     "metadata": {},
     "output_type": "execute_result"
    }
   ],
   "source": [
    "pd.crosstab(data['Region'],data['Manager'])"
   ]
  },
  {
   "cell_type": "code",
   "execution_count": 20,
   "id": "6c195520-8d28-488f-9f48-215908899aee",
   "metadata": {},
   "outputs": [],
   "source": [
    "#perform the Chi-Square Test of Independence since we have contingency table of frequencies\n",
    "chivalue,pvalue,df,expvalues=stats.chi2_contingency(data1)"
   ]
  },
  {
   "cell_type": "code",
   "execution_count": 21,
   "id": "c07ff46f-c375-4814-9a69-480b468f5fab",
   "metadata": {},
   "outputs": [
    {
     "name": "stdout",
     "output_type": "stream",
     "text": [
      "Chi sqaure Test Statistic: 3.050566893424036\n",
      "Pvalue of test data; 0.5493991051158094\n",
      "Degrees of Freedom: 4\n",
      "expected observations of data:\n",
      " [[4.09090909 3.18181818 2.72727273]\n",
      " [2.86363636 2.22727273 1.90909091]\n",
      " [2.04545455 1.59090909 1.36363636]]\n"
     ]
    }
   ],
   "source": [
    "print('Chi sqaure Test Statistic:',chivalue)\n",
    "print('Pvalue of test data;',pvalue)\n",
    "print('Degrees of Freedom:',df)\n",
    "print('expected observations of data:\\n',expvalues)"
   ]
  },
  {
   "cell_type": "code",
   "execution_count": 22,
   "id": "92f07792-a773-4056-929b-15b288dd02df",
   "metadata": {},
   "outputs": [
    {
     "data": {
      "text/plain": [
       "9.487729036781154"
      ]
     },
     "execution_count": 22,
     "metadata": {},
     "output_type": "execute_result"
    }
   ],
   "source": [
    "# chi square criteria value for significance of 0.05 and degrees of freedom (3-1)*(3-1) =4 \n",
    "chicriteria=stats.chi2.ppf(1-0.05,4)\n",
    "stats.chi2.ppf(1-0.05,df=4)"
   ]
  },
  {
   "cell_type": "code",
   "execution_count": 23,
   "id": "be8e9885-6978-435f-aae9-1f6bce3a60de",
   "metadata": {},
   "outputs": [
    {
     "name": "stdout",
     "output_type": "stream",
     "text": [
      "Reject H1:Region and Manager features are dependent\n"
     ]
    }
   ],
   "source": [
    "if(chivalue>chicriteria and pvalue<0.05):\n",
    "    print('Reject H0: Region and Manager features are independent')\n",
    "else:\n",
    "    print('Reject H1:Region and Manager features are dependent')"
   ]
  },
  {
   "cell_type": "markdown",
   "id": "10ae5c5a-51f4-44ec-8416-76ce27578db1",
   "metadata": {},
   "source": [
    "As per Chi square test for independence the Features **Region** and **Manager** are **independent**"
   ]
  }
 ],
 "metadata": {
  "kernelspec": {
   "display_name": "Python 3 (ipykernel)",
   "language": "python",
   "name": "python3"
  },
  "language_info": {
   "codemirror_mode": {
    "name": "ipython",
    "version": 3
   },
   "file_extension": ".py",
   "mimetype": "text/x-python",
   "name": "python",
   "nbconvert_exporter": "python",
   "pygments_lexer": "ipython3",
   "version": "3.8.8"
  }
 },
 "nbformat": 4,
 "nbformat_minor": 5
}
