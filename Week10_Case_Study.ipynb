{
 "cells": [
  {
   "cell_type": "markdown",
   "id": "fd3c0ca2-0439-4ece-9427-3c7c541ca5ea",
   "metadata": {},
   "source": [
    "# adding libraries"
   ]
  },
  {
   "cell_type": "code",
   "execution_count": 1,
   "id": "6e3927ff-4d28-403c-91ed-ec49a81e9281",
   "metadata": {},
   "outputs": [],
   "source": [
    "import numpy as np\n",
    "import pandas as pd\n",
    "import seaborn as sns\n",
    "import matplotlib.pyplot as plt"
   ]
  },
  {
   "cell_type": "markdown",
   "id": "43425ba5-fcc5-47e5-a368-571c90537d52",
   "metadata": {},
   "source": [
    "# reading file"
   ]
  },
  {
   "cell_type": "code",
   "execution_count": 2,
   "id": "e7e78026-644e-4bc9-9aac-a2bf0c8238ec",
   "metadata": {},
   "outputs": [],
   "source": [
    "data=pd.read_csv('Add_sales_data_2018.csv')"
   ]
  },
  {
   "cell_type": "code",
   "execution_count": 3,
   "id": "fc723d3c-7a65-45da-ae66-32cd662c38e7",
   "metadata": {},
   "outputs": [
    {
     "data": {
      "text/html": [
       "<div>\n",
       "<style scoped>\n",
       "    .dataframe tbody tr th:only-of-type {\n",
       "        vertical-align: middle;\n",
       "    }\n",
       "\n",
       "    .dataframe tbody tr th {\n",
       "        vertical-align: top;\n",
       "    }\n",
       "\n",
       "    .dataframe thead th {\n",
       "        text-align: right;\n",
       "    }\n",
       "</style>\n",
       "<table border=\"1\" class=\"dataframe\">\n",
       "  <thead>\n",
       "    <tr style=\"text-align: right;\">\n",
       "      <th></th>\n",
       "      <th>Date</th>\n",
       "      <th>Add1(in Thousands)</th>\n",
       "      <th>Add2(in Thousands)</th>\n",
       "      <th>Add3(in Thousands)</th>\n",
       "      <th>Add4(in Thousands)</th>\n",
       "      <th>Add5(in Thousands)</th>\n",
       "      <th>Profit(in Thousands)</th>\n",
       "    </tr>\n",
       "  </thead>\n",
       "  <tbody>\n",
       "    <tr>\n",
       "      <th>0</th>\n",
       "      <td>2018-10-08</td>\n",
       "      <td>208.00</td>\n",
       "      <td>222.25</td>\n",
       "      <td>206.85</td>\n",
       "      <td>216.00</td>\n",
       "      <td>215.15</td>\n",
       "      <td>4093.065</td>\n",
       "    </tr>\n",
       "    <tr>\n",
       "      <th>1</th>\n",
       "      <td>2018-10-05</td>\n",
       "      <td>217.00</td>\n",
       "      <td>218.60</td>\n",
       "      <td>205.90</td>\n",
       "      <td>210.25</td>\n",
       "      <td>209.20</td>\n",
       "      <td>4042.448</td>\n",
       "    </tr>\n",
       "    <tr>\n",
       "      <th>2</th>\n",
       "      <td>2018-10-04</td>\n",
       "      <td>223.50</td>\n",
       "      <td>227.80</td>\n",
       "      <td>216.15</td>\n",
       "      <td>217.25</td>\n",
       "      <td>218.20</td>\n",
       "      <td>4213.819</td>\n",
       "    </tr>\n",
       "    <tr>\n",
       "      <th>3</th>\n",
       "      <td>2018-10-03</td>\n",
       "      <td>230.00</td>\n",
       "      <td>237.50</td>\n",
       "      <td>225.75</td>\n",
       "      <td>226.45</td>\n",
       "      <td>227.60</td>\n",
       "      <td>4391.665</td>\n",
       "    </tr>\n",
       "    <tr>\n",
       "      <th>4</th>\n",
       "      <td>2018-10-01</td>\n",
       "      <td>234.55</td>\n",
       "      <td>234.60</td>\n",
       "      <td>221.05</td>\n",
       "      <td>230.30</td>\n",
       "      <td>230.90</td>\n",
       "      <td>4350.683</td>\n",
       "    </tr>\n",
       "  </tbody>\n",
       "</table>\n",
       "</div>"
      ],
      "text/plain": [
       "         Date  Add1(in Thousands)  Add2(in Thousands)  Add3(in Thousands)  \\\n",
       "0  2018-10-08              208.00              222.25              206.85   \n",
       "1  2018-10-05              217.00              218.60              205.90   \n",
       "2  2018-10-04              223.50              227.80              216.15   \n",
       "3  2018-10-03              230.00              237.50              225.75   \n",
       "4  2018-10-01              234.55              234.60              221.05   \n",
       "\n",
       "   Add4(in Thousands)  Add5(in Thousands)  Profit(in Thousands)  \n",
       "0              216.00              215.15              4093.065  \n",
       "1              210.25              209.20              4042.448  \n",
       "2              217.25              218.20              4213.819  \n",
       "3              226.45              227.60              4391.665  \n",
       "4              230.30              230.90              4350.683  "
      ]
     },
     "execution_count": 3,
     "metadata": {},
     "output_type": "execute_result"
    }
   ],
   "source": [
    "data.head()"
   ]
  },
  {
   "cell_type": "code",
   "execution_count": 4,
   "id": "07d86343-03af-4130-b8e2-add0977b9b17",
   "metadata": {},
   "outputs": [
    {
     "name": "stdout",
     "output_type": "stream",
     "text": [
      "<class 'pandas.core.frame.DataFrame'>\n",
      "RangeIndex: 205 entries, 0 to 204\n",
      "Data columns (total 7 columns):\n",
      " #   Column                Non-Null Count  Dtype  \n",
      "---  ------                --------------  -----  \n",
      " 0   Date                  205 non-null    object \n",
      " 1   Add1(in Thousands)    205 non-null    float64\n",
      " 2   Add2(in Thousands)    205 non-null    float64\n",
      " 3   Add3(in Thousands)    205 non-null    float64\n",
      " 4   Add4(in Thousands)    205 non-null    float64\n",
      " 5   Add5(in Thousands)    205 non-null    float64\n",
      " 6   Profit(in Thousands)  205 non-null    float64\n",
      "dtypes: float64(6), object(1)\n",
      "memory usage: 11.3+ KB\n"
     ]
    }
   ],
   "source": [
    "data.info()"
   ]
  },
  {
   "cell_type": "code",
   "execution_count": 5,
   "id": "2317d343-859f-4afd-82db-c6b6aaa43313",
   "metadata": {},
   "outputs": [
    {
     "data": {
      "text/html": [
       "<div>\n",
       "<style scoped>\n",
       "    .dataframe tbody tr th:only-of-type {\n",
       "        vertical-align: middle;\n",
       "    }\n",
       "\n",
       "    .dataframe tbody tr th {\n",
       "        vertical-align: top;\n",
       "    }\n",
       "\n",
       "    .dataframe thead th {\n",
       "        text-align: right;\n",
       "    }\n",
       "</style>\n",
       "<table border=\"1\" class=\"dataframe\">\n",
       "  <thead>\n",
       "    <tr style=\"text-align: right;\">\n",
       "      <th></th>\n",
       "      <th>count</th>\n",
       "      <th>mean</th>\n",
       "      <th>std</th>\n",
       "      <th>min</th>\n",
       "      <th>25%</th>\n",
       "      <th>50%</th>\n",
       "      <th>75%</th>\n",
       "      <th>max</th>\n",
       "    </tr>\n",
       "  </thead>\n",
       "  <tbody>\n",
       "    <tr>\n",
       "      <th>Add1(in Thousands)</th>\n",
       "      <td>205.0</td>\n",
       "      <td>267.577561</td>\n",
       "      <td>26.219588</td>\n",
       "      <td>208.000</td>\n",
       "      <td>244.000</td>\n",
       "      <td>269.700</td>\n",
       "      <td>284.400</td>\n",
       "      <td>327.70</td>\n",
       "    </tr>\n",
       "    <tr>\n",
       "      <th>Add2(in Thousands)</th>\n",
       "      <td>205.0</td>\n",
       "      <td>271.722439</td>\n",
       "      <td>25.914939</td>\n",
       "      <td>218.600</td>\n",
       "      <td>248.500</td>\n",
       "      <td>274.200</td>\n",
       "      <td>288.800</td>\n",
       "      <td>328.75</td>\n",
       "    </tr>\n",
       "    <tr>\n",
       "      <th>Add3(in Thousands)</th>\n",
       "      <td>205.0</td>\n",
       "      <td>262.990732</td>\n",
       "      <td>26.126704</td>\n",
       "      <td>205.900</td>\n",
       "      <td>240.300</td>\n",
       "      <td>263.250</td>\n",
       "      <td>280.900</td>\n",
       "      <td>321.65</td>\n",
       "    </tr>\n",
       "    <tr>\n",
       "      <th>Add4(in Thousands)</th>\n",
       "      <td>205.0</td>\n",
       "      <td>267.223902</td>\n",
       "      <td>26.238832</td>\n",
       "      <td>210.250</td>\n",
       "      <td>243.050</td>\n",
       "      <td>268.900</td>\n",
       "      <td>284.500</td>\n",
       "      <td>325.95</td>\n",
       "    </tr>\n",
       "    <tr>\n",
       "      <th>Add5(in Thousands)</th>\n",
       "      <td>205.0</td>\n",
       "      <td>267.152683</td>\n",
       "      <td>26.215360</td>\n",
       "      <td>209.200</td>\n",
       "      <td>243.000</td>\n",
       "      <td>268.350</td>\n",
       "      <td>284.450</td>\n",
       "      <td>325.75</td>\n",
       "    </tr>\n",
       "    <tr>\n",
       "      <th>Profit(in Thousands)</th>\n",
       "      <td>205.0</td>\n",
       "      <td>5059.630234</td>\n",
       "      <td>486.910414</td>\n",
       "      <td>4042.448</td>\n",
       "      <td>4617.695</td>\n",
       "      <td>5088.455</td>\n",
       "      <td>5387.438</td>\n",
       "      <td>6137.80</td>\n",
       "    </tr>\n",
       "  </tbody>\n",
       "</table>\n",
       "</div>"
      ],
      "text/plain": [
       "                      count         mean         std       min       25%  \\\n",
       "Add1(in Thousands)    205.0   267.577561   26.219588   208.000   244.000   \n",
       "Add2(in Thousands)    205.0   271.722439   25.914939   218.600   248.500   \n",
       "Add3(in Thousands)    205.0   262.990732   26.126704   205.900   240.300   \n",
       "Add4(in Thousands)    205.0   267.223902   26.238832   210.250   243.050   \n",
       "Add5(in Thousands)    205.0   267.152683   26.215360   209.200   243.000   \n",
       "Profit(in Thousands)  205.0  5059.630234  486.910414  4042.448  4617.695   \n",
       "\n",
       "                           50%       75%      max  \n",
       "Add1(in Thousands)     269.700   284.400   327.70  \n",
       "Add2(in Thousands)     274.200   288.800   328.75  \n",
       "Add3(in Thousands)     263.250   280.900   321.65  \n",
       "Add4(in Thousands)     268.900   284.500   325.95  \n",
       "Add5(in Thousands)     268.350   284.450   325.75  \n",
       "Profit(in Thousands)  5088.455  5387.438  6137.80  "
      ]
     },
     "execution_count": 5,
     "metadata": {},
     "output_type": "execute_result"
    }
   ],
   "source": [
    "data.describe().transpose()"
   ]
  },
  {
   "cell_type": "code",
   "execution_count": 6,
   "id": "e92375a2",
   "metadata": {},
   "outputs": [
    {
     "data": {
      "text/plain": [
       "Date                    0\n",
       "Add1(in Thousands)      0\n",
       "Add2(in Thousands)      0\n",
       "Add3(in Thousands)      0\n",
       "Add4(in Thousands)      0\n",
       "Add5(in Thousands)      0\n",
       "Profit(in Thousands)    0\n",
       "dtype: int64"
      ]
     },
     "execution_count": 6,
     "metadata": {},
     "output_type": "execute_result"
    }
   ],
   "source": [
    "data.isna().sum()"
   ]
  },
  {
   "cell_type": "markdown",
   "id": "1f9f46b3-ce67-49e7-87eb-8b7ba21c6ef2",
   "metadata": {},
   "source": [
    "# data is having 6 columns with money spent on 5 add companies  and corresponding profit figure.\n",
    "# There are no null values"
   ]
  },
  {
   "cell_type": "code",
   "execution_count": 7,
   "id": "69623544-d5c4-4434-895e-9c46a411025b",
   "metadata": {},
   "outputs": [
    {
     "data": {
      "text/html": [
       "<div>\n",
       "<style scoped>\n",
       "    .dataframe tbody tr th:only-of-type {\n",
       "        vertical-align: middle;\n",
       "    }\n",
       "\n",
       "    .dataframe tbody tr th {\n",
       "        vertical-align: top;\n",
       "    }\n",
       "\n",
       "    .dataframe thead th {\n",
       "        text-align: right;\n",
       "    }\n",
       "</style>\n",
       "<table border=\"1\" class=\"dataframe\">\n",
       "  <thead>\n",
       "    <tr style=\"text-align: right;\">\n",
       "      <th></th>\n",
       "      <th>Add1(in Thousands)</th>\n",
       "      <th>Add2(in Thousands)</th>\n",
       "      <th>Add3(in Thousands)</th>\n",
       "      <th>Add4(in Thousands)</th>\n",
       "      <th>Add5(in Thousands)</th>\n",
       "      <th>Profit(in Thousands)</th>\n",
       "    </tr>\n",
       "  </thead>\n",
       "  <tbody>\n",
       "    <tr>\n",
       "      <th>Add1(in Thousands)</th>\n",
       "      <td>1.000000</td>\n",
       "      <td>0.990976</td>\n",
       "      <td>0.986274</td>\n",
       "      <td>0.976365</td>\n",
       "      <td>0.976716</td>\n",
       "      <td>0.991975</td>\n",
       "    </tr>\n",
       "    <tr>\n",
       "      <th>Add2(in Thousands)</th>\n",
       "      <td>0.990976</td>\n",
       "      <td>1.000000</td>\n",
       "      <td>0.987990</td>\n",
       "      <td>0.989921</td>\n",
       "      <td>0.990285</td>\n",
       "      <td>0.999145</td>\n",
       "    </tr>\n",
       "    <tr>\n",
       "      <th>Add3(in Thousands)</th>\n",
       "      <td>0.986274</td>\n",
       "      <td>0.987990</td>\n",
       "      <td>1.000000</td>\n",
       "      <td>0.991343</td>\n",
       "      <td>0.991908</td>\n",
       "      <td>0.993389</td>\n",
       "    </tr>\n",
       "    <tr>\n",
       "      <th>Add4(in Thousands)</th>\n",
       "      <td>0.976365</td>\n",
       "      <td>0.989921</td>\n",
       "      <td>0.991343</td>\n",
       "      <td>1.000000</td>\n",
       "      <td>0.999699</td>\n",
       "      <td>0.993346</td>\n",
       "    </tr>\n",
       "    <tr>\n",
       "      <th>Add5(in Thousands)</th>\n",
       "      <td>0.976716</td>\n",
       "      <td>0.990285</td>\n",
       "      <td>0.991908</td>\n",
       "      <td>0.999699</td>\n",
       "      <td>1.000000</td>\n",
       "      <td>0.993710</td>\n",
       "    </tr>\n",
       "    <tr>\n",
       "      <th>Profit(in Thousands)</th>\n",
       "      <td>0.991975</td>\n",
       "      <td>0.999145</td>\n",
       "      <td>0.993389</td>\n",
       "      <td>0.993346</td>\n",
       "      <td>0.993710</td>\n",
       "      <td>1.000000</td>\n",
       "    </tr>\n",
       "  </tbody>\n",
       "</table>\n",
       "</div>"
      ],
      "text/plain": [
       "                      Add1(in Thousands)  Add2(in Thousands)  \\\n",
       "Add1(in Thousands)              1.000000            0.990976   \n",
       "Add2(in Thousands)              0.990976            1.000000   \n",
       "Add3(in Thousands)              0.986274            0.987990   \n",
       "Add4(in Thousands)              0.976365            0.989921   \n",
       "Add5(in Thousands)              0.976716            0.990285   \n",
       "Profit(in Thousands)            0.991975            0.999145   \n",
       "\n",
       "                      Add3(in Thousands)  Add4(in Thousands)  \\\n",
       "Add1(in Thousands)              0.986274            0.976365   \n",
       "Add2(in Thousands)              0.987990            0.989921   \n",
       "Add3(in Thousands)              1.000000            0.991343   \n",
       "Add4(in Thousands)              0.991343            1.000000   \n",
       "Add5(in Thousands)              0.991908            0.999699   \n",
       "Profit(in Thousands)            0.993389            0.993346   \n",
       "\n",
       "                      Add5(in Thousands)  Profit(in Thousands)  \n",
       "Add1(in Thousands)              0.976716              0.991975  \n",
       "Add2(in Thousands)              0.990285              0.999145  \n",
       "Add3(in Thousands)              0.991908              0.993389  \n",
       "Add4(in Thousands)              0.999699              0.993346  \n",
       "Add5(in Thousands)              1.000000              0.993710  \n",
       "Profit(in Thousands)            0.993710              1.000000  "
      ]
     },
     "execution_count": 7,
     "metadata": {},
     "output_type": "execute_result"
    }
   ],
   "source": [
    "data.corr()"
   ]
  },
  {
   "cell_type": "code",
   "execution_count": 8,
   "id": "921d7818-e823-48df-a30c-772525581514",
   "metadata": {},
   "outputs": [
    {
     "data": {
      "text/plain": [
       "<AxesSubplot:>"
      ]
     },
     "execution_count": 8,
     "metadata": {},
     "output_type": "execute_result"
    },
    {
     "data": {
      "image/png": "[encoded data removed]",
      "text/plain": [
       "<Figure size 720x432 with 2 Axes>"
      ]
     },
     "metadata": {
      "needs_background": "light"
     },
     "output_type": "display_data"
    }
   ],
   "source": [
    "plt.figure(figsize=(10,6))\n",
    "sns.heatmap(data=data.corr(),vmin=0.97,vmax=1,annot=True,cmap='viridis')"
   ]
  },
  {
   "cell_type": "markdown",
   "id": "14f1f5d5-ba42-4562-84b0-a0cd9d7b1136",
   "metadata": {},
   "source": [
    "# the add spent and profit are higly positive correlated and a very small change in add spend will have huge impact on profit"
   ]
  },
  {
   "cell_type": "markdown",
   "id": "676e7a4d-5f90-4855-9349-523d3d385c0e",
   "metadata": {},
   "source": [
    "# splitting data to dependent variable(y) and independent variable(X)"
   ]
  },
  {
   "cell_type": "code",
   "execution_count": 9,
   "id": "7925372d-6753-4121-8cc0-474e294537cc",
   "metadata": {},
   "outputs": [],
   "source": [
    "X=data.drop(['Profit(in Thousands)','Date'],axis=1)\n",
    "y=data['Profit(in Thousands)']"
   ]
  },
  {
   "cell_type": "markdown",
   "id": "48894f2b-5bf4-48b6-b614-39c260d2bef6",
   "metadata": {},
   "source": [
    "# creating training and testing set"
   ]
  },
  {
   "cell_type": "code",
   "execution_count": 10,
   "id": "11021548-40b4-4fd3-a5b8-3c804fb8f701",
   "metadata": {},
   "outputs": [],
   "source": [
    "from sklearn.model_selection import train_test_split\n",
    "X_train,X_test,y_train,y_test=train_test_split(X,y,random_state=42,test_size=.25)"
   ]
  },
  {
   "cell_type": "markdown",
   "id": "926bb883-54f2-4cab-9bba-d04a26fe35af",
   "metadata": {},
   "source": [
    "# importing model and fitting"
   ]
  },
  {
   "cell_type": "code",
   "execution_count": 11,
   "id": "1331f76a-bb23-4610-ac42-ec37413ca7ff",
   "metadata": {},
   "outputs": [],
   "source": [
    "from sklearn import linear_model\n",
    "lr=linear_model.LinearRegression()"
   ]
  },
  {
   "cell_type": "code",
   "execution_count": 12,
   "id": "a3255be4-7a0b-4f7e-9308-a70776696f88",
   "metadata": {},
   "outputs": [],
   "source": [
    "model=lr.fit(X_train,y_train)"
   ]
  },
  {
   "cell_type": "code",
   "execution_count": 13,
   "id": "bace7838-6f0f-4d66-b227-30e4fba52f69",
   "metadata": {},
   "outputs": [],
   "source": [
    "predictions= model.predict(X_test)"
   ]
  },
  {
   "cell_type": "code",
   "execution_count": 14,
   "id": "48bae7ee-9061-4e0a-8c46-076c5d20b668",
   "metadata": {},
   "outputs": [
    {
     "name": "stdout",
     "output_type": "stream",
     "text": [
      "15     4152.066\n",
      "9      4446.441\n",
      "100    5131.898\n",
      "132    4907.560\n",
      "68     5004.282\n",
      "95     4623.793\n",
      "159    5384.175\n",
      "162    5328.025\n",
      "147    5175.051\n",
      "182    5956.323\n",
      "191    5780.799\n",
      "164    4997.719\n",
      "65     5075.858\n",
      "175    5784.540\n",
      "73     4936.120\n",
      "152    5065.652\n",
      "18     4190.965\n",
      "82     5034.726\n",
      "86     5015.536\n",
      "143    5134.657\n",
      "60     5145.131\n",
      "101    5421.940\n",
      "98     4569.293\n",
      "30     4598.292\n",
      "25     4436.321\n",
      "16     4175.677\n",
      "168    5616.791\n",
      "195    5667.250\n",
      "97     4648.834\n",
      "194    5717.838\n",
      "67     5001.615\n",
      "120    5182.368\n",
      "154    5017.503\n",
      "202    5545.013\n",
      "79     5013.207\n",
      "69     5030.451\n",
      "145    5108.626\n",
      "55     4760.877\n",
      "45     4606.340\n",
      "84     4925.861\n",
      "146    5250.788\n",
      "66     5038.222\n",
      "111    5491.792\n",
      "153    5019.997\n",
      "96     4647.356\n",
      "38     4486.380\n",
      "24     4435.174\n",
      "139    5300.437\n",
      "112    5425.190\n",
      "29     4482.183\n",
      "19     4193.095\n",
      "178    6062.457\n",
      "Name: Profit(in Thousands), dtype: float64\n"
     ]
    }
   ],
   "source": [
    "print(y_test)"
   ]
  },
  {
   "cell_type": "code",
   "execution_count": 15,
   "id": "22ebeeaa-2adb-4de8-9f09-03b78be35d84",
   "metadata": {},
   "outputs": [
    {
     "data": {
      "text/plain": [
       "array([4152.066, 4446.441, 5131.898, 4907.56 , 5004.282, 4623.793,\n",
       "       5384.175, 5328.025, 5175.051, 5956.323, 5780.799, 4997.719,\n",
       "       5075.858, 5784.54 , 4936.12 , 5065.652, 4190.965, 5034.726,\n",
       "       5015.536, 5134.657, 5145.131, 5421.94 , 4569.293, 4598.292,\n",
       "       4436.321, 4175.677, 5616.791, 5667.25 , 4648.834, 5717.838,\n",
       "       5001.615, 5182.368, 5017.503, 5545.013, 5013.207, 5030.451,\n",
       "       5108.626, 4760.877, 4606.34 , 4925.861, 5250.788, 5038.222,\n",
       "       5491.792, 5019.997, 4647.356, 4486.38 , 4435.174, 5300.437,\n",
       "       5425.19 , 4482.183, 4193.095, 6062.457])"
      ]
     },
     "execution_count": 15,
     "metadata": {},
     "output_type": "execute_result"
    }
   ],
   "source": [
    "predictions"
   ]
  },
  {
   "cell_type": "code",
   "execution_count": 16,
   "id": "5711c5a3",
   "metadata": {},
   "outputs": [
    {
     "name": "stdout",
     "output_type": "stream",
     "text": [
      "MSE: 0.0\n"
     ]
    }
   ],
   "source": [
    "from sklearn.metrics import mean_squared_error\n",
    "print('MSE:',mean_squared_error(y_test,predictions).round())"
   ]
  },
  {
   "cell_type": "code",
   "execution_count": 17,
   "id": "bf429752-8ed5-4ac7-a76a-0b17d5ebf664",
   "metadata": {},
   "outputs": [
    {
     "data": {
      "text/plain": [
       "1.0"
      ]
     },
     "execution_count": 17,
     "metadata": {},
     "output_type": "execute_result"
    }
   ],
   "source": [
    "# R squared\n",
    "model.score(X,y)"
   ]
  },
  {
   "cell_type": "markdown",
   "id": "a7150e31-a09d-4ce4-a646-9da41fbfa725",
   "metadata": {},
   "source": [
    "since correlation is very high between variables linear regression model is predicting test sample values itself.\n",
    "\n",
    "R squared is coming as 1 and MSE is 0 which means its overfit as per linear regression technique.\n",
    "\n",
    "But since the variables are very higly correlatated and close to 1, predicted values is same as observed"
   ]
  },
  {
   "cell_type": "markdown",
   "id": "a3109381-284e-4d10-a9b8-0b0166a7fd4c",
   "metadata": {},
   "source": [
    "# predicting using linear regression model"
   ]
  },
  {
   "cell_type": "code",
   "execution_count": 18,
   "id": "4f7b5c51-55a2-4135-ab04-60e318222bf1",
   "metadata": {},
   "outputs": [
    {
     "data": {
      "text/plain": [
       "array([5820.06])"
      ]
     },
     "execution_count": 18,
     "metadata": {},
     "output_type": "execute_result"
    }
   ],
   "source": [
    "sample_predict= [[290,312,309,298,320]]\n",
    "model.predict(sample_predict)"
   ]
  },
  {
   "cell_type": "markdown",
   "id": "434d9d50-89c5-4fc6-9715-2051e49a17bf",
   "metadata": {},
   "source": [
    "As per linear regression model predicted profit is  **5820.06**"
   ]
  }
 ],
 "metadata": {
  "kernelspec": {
   "display_name": "Python 3 (ipykernel)",
   "language": "python",
   "name": "python3"
  },
  "language_info": {
   "codemirror_mode": {
    "name": "ipython",
    "version": 3
   },
   "file_extension": ".py",
   "mimetype": "text/x-python",
   "name": "python",
   "nbconvert_exporter": "python",
   "pygments_lexer": "ipython3",
   "version": "3.8.8"
  }
 },
 "nbformat": 4,
 "nbformat_minor": 5
}
